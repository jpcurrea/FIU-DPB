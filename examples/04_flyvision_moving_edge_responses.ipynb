{
  "cells": [
    {
      "cell_type": "markdown",
      "metadata": {
        "id": "uu-bb4z8t_lP"
      },
      "source": [
        "# Moving edge responses\n",
        "\n",
        "This notebook introduces moving edge responses and the direction selectivity index (DSI). The DSI measures motion selectivity of cells to visual input."
      ]
    },
    {
      "cell_type": "markdown",
      "metadata": {
        "id": "81e5384d",
        "tags": [
          "hide"
        ]
      },
      "source": [
        "**Select GPU runtime**\n",
        "\n",
        "To run the notebook on a GPU select Menu -> Runtime -> Change runtime type -> GPU."
      ]
    },
    {
      "cell_type": "code",
      "execution_count": 1,
      "metadata": {
        "execution": {
          "iopub.execute_input": "2024-12-08T18:36:11.997041Z",
          "iopub.status.busy": "2024-12-08T18:36:11.996552Z",
          "iopub.status.idle": "2024-12-08T18:36:12.008280Z",
          "shell.execute_reply": "2024-12-08T18:36:12.007408Z"
        },
        "id": "a323b04c",
        "tags": [
          "hide"
        ],
        "outputId": "9da0fd82-7a0f-4b6d-c958-e28ae3ee1b37",
        "colab": {
          "base_uri": "https://localhost:8080/"
        }
      },
      "outputs": [
        {
          "output_type": "stream",
          "name": "stdout",
          "text": [
            "Name of the assigned GPU / CUDA device: Tesla T4\n"
          ]
        }
      ],
      "source": [
        "# @markdown **Check access to GPU**\n",
        "\n",
        "try:\n",
        "    import google.colab\n",
        "\n",
        "    IN_COLAB = True\n",
        "except ImportError:\n",
        "    IN_COLAB = False\n",
        "\n",
        "if IN_COLAB:\n",
        "    import torch\n",
        "\n",
        "    try:\n",
        "        cuda_name = torch.cuda.get_device_name()\n",
        "        print(f\"Name of the assigned GPU / CUDA device: {cuda_name}\")\n",
        "    except RuntimeError:\n",
        "        import warnings\n",
        "\n",
        "        warnings.warn(\n",
        "            \"You have not selected Runtime Type: 'GPU' or Google could not assign you one. Please revisit the settings as described above or proceed on CPU (slow).\"\n",
        "        )"
      ]
    },
    {
      "cell_type": "markdown",
      "metadata": {
        "id": "db055330",
        "tags": [
          "hide"
        ]
      },
      "source": [
        "**Install Flyvis**\n",
        "\n",
        "The notebook requires installing our package `flyvis`. You may need to restart your session after running the code block below with Menu -> Runtime -> Restart session. Then, imports from `flyvis` should succeed without issue."
      ]
    },
    {
      "cell_type": "code",
      "execution_count": 2,
      "metadata": {
        "execution": {
          "iopub.execute_input": "2024-12-08T18:36:12.012601Z",
          "iopub.status.busy": "2024-12-08T18:36:12.012341Z",
          "iopub.status.idle": "2024-12-08T18:36:12.018140Z",
          "shell.execute_reply": "2024-12-08T18:36:12.017240Z"
        },
        "id": "b0bb0ee9",
        "tags": [
          "hide"
        ],
        "outputId": "4a6cbd10-0135-4a8f-eec5-207a9b77cd67",
        "colab": {
          "base_uri": "https://localhost:8080/"
        }
      },
      "outputs": [
        {
          "output_type": "stream",
          "name": "stdout",
          "text": [
            "fatal: destination path 'flyvis' already exists and is not an empty directory.\n",
            "/content/flyvis\n",
            "Obtaining file:///content/flyvis\n",
            "  Installing build dependencies ... \u001b[?25l\u001b[?25hdone\n",
            "  Checking if build backend supports build_editable ... \u001b[?25l\u001b[?25hdone\n",
            "  Getting requirements to build editable ... \u001b[?25l\u001b[?25hdone\n",
            "  Preparing editable metadata (pyproject.toml) ... \u001b[?25l\u001b[?25hdone\n",
            "Requirement already satisfied: ipython in /usr/local/lib/python3.11/dist-packages (from flyvis==1.1.3.dev2+gce555ee) (7.34.0)\n",
            "Requirement already satisfied: numba in /usr/local/lib/python3.11/dist-packages (from flyvis==1.1.3.dev2+gce555ee) (0.60.0)\n",
            "Requirement already satisfied: datamate in /usr/local/lib/python3.11/dist-packages (from flyvis==1.1.3.dev2+gce555ee) (1.0.0)\n",
            "Requirement already satisfied: scipy in /usr/local/lib/python3.11/dist-packages (from flyvis==1.1.3.dev2+gce555ee) (1.14.1)\n",
            "Requirement already satisfied: matplotlib in /usr/local/lib/python3.11/dist-packages (from flyvis==1.1.3.dev2+gce555ee) (3.10.0)\n",
            "Requirement already satisfied: networkx in /usr/local/lib/python3.11/dist-packages (from flyvis==1.1.3.dev2+gce555ee) (3.4.2)\n",
            "Requirement already satisfied: scikit-learn in /usr/local/lib/python3.11/dist-packages (from flyvis==1.1.3.dev2+gce555ee) (1.6.1)\n",
            "Requirement already satisfied: umap-learn in /usr/local/lib/python3.11/dist-packages (from flyvis==1.1.3.dev2+gce555ee) (0.5.7)\n",
            "Requirement already satisfied: ffmpeg-python in /usr/local/lib/python3.11/dist-packages (from flyvis==1.1.3.dev2+gce555ee) (0.2.0)\n",
            "Requirement already satisfied: pytest in /usr/local/lib/python3.11/dist-packages (from flyvis==1.1.3.dev2+gce555ee) (8.3.5)\n",
            "Requirement already satisfied: torch in /usr/local/lib/python3.11/dist-packages (from flyvis==1.1.3.dev2+gce555ee) (2.6.0+cu124)\n",
            "Requirement already satisfied: torchvision in /usr/local/lib/python3.11/dist-packages (from flyvis==1.1.3.dev2+gce555ee) (0.21.0+cu124)\n",
            "Requirement already satisfied: python-dotenv in /usr/local/lib/python3.11/dist-packages (from flyvis==1.1.3.dev2+gce555ee) (1.1.0)\n",
            "Requirement already satisfied: hydra-core in /usr/local/lib/python3.11/dist-packages (from flyvis==1.1.3.dev2+gce555ee) (1.3.2)\n",
            "Requirement already satisfied: toolz in /usr/local/lib/python3.11/dist-packages (from flyvis==1.1.3.dev2+gce555ee) (0.12.1)\n",
            "Requirement already satisfied: tqdm in /usr/local/lib/python3.11/dist-packages (from flyvis==1.1.3.dev2+gce555ee) (4.67.1)\n",
            "Requirement already satisfied: requests in /usr/local/lib/python3.11/dist-packages (from flyvis==1.1.3.dev2+gce555ee) (2.32.3)\n",
            "Requirement already satisfied: google-api-python-client in /usr/local/lib/python3.11/dist-packages (from flyvis==1.1.3.dev2+gce555ee) (2.164.0)\n",
            "Requirement already satisfied: xarray in /usr/local/lib/python3.11/dist-packages (from flyvis==1.1.3.dev2+gce555ee) (2025.1.2)\n",
            "Requirement already satisfied: pandas in /usr/local/lib/python3.11/dist-packages (from flyvis==1.1.3.dev2+gce555ee) (2.2.2)\n",
            "Requirement already satisfied: joblib in /usr/local/lib/python3.11/dist-packages (from flyvis==1.1.3.dev2+gce555ee) (1.4.2)\n",
            "Requirement already satisfied: colorama in /usr/local/lib/python3.11/dist-packages (from flyvis==1.1.3.dev2+gce555ee) (0.4.6)\n",
            "Requirement already satisfied: jupyter in /usr/local/lib/python3.11/dist-packages (from flyvis==1.1.3.dev2+gce555ee) (1.1.1)\n",
            "Requirement already satisfied: tabulate in /usr/local/lib/python3.11/dist-packages (from flyvis==1.1.3.dev2+gce555ee) (0.9.0)\n",
            "Requirement already satisfied: ipywidgets in /usr/local/lib/python3.11/dist-packages (from flyvis==1.1.3.dev2+gce555ee) (7.7.1)\n",
            "Requirement already satisfied: numpy in /usr/local/lib/python3.11/dist-packages (from datamate->flyvis==1.1.3.dev2+gce555ee) (2.0.2)\n",
            "Requirement already satisfied: typing_extensions in /usr/local/lib/python3.11/dist-packages (from datamate->flyvis==1.1.3.dev2+gce555ee) (4.13.0)\n",
            "Requirement already satisfied: h5py>=3.6.0 in /usr/local/lib/python3.11/dist-packages (from datamate->flyvis==1.1.3.dev2+gce555ee) (3.13.0)\n",
            "Requirement already satisfied: ruamel.yaml in /usr/local/lib/python3.11/dist-packages (from datamate->flyvis==1.1.3.dev2+gce555ee) (0.18.10)\n",
            "Requirement already satisfied: PyYAML in /usr/local/lib/python3.11/dist-packages (from datamate->flyvis==1.1.3.dev2+gce555ee) (6.0.2)\n",
            "Requirement already satisfied: future in /usr/local/lib/python3.11/dist-packages (from ffmpeg-python->flyvis==1.1.3.dev2+gce555ee) (1.0.0)\n",
            "Requirement already satisfied: httplib2<1.dev0,>=0.19.0 in /usr/local/lib/python3.11/dist-packages (from google-api-python-client->flyvis==1.1.3.dev2+gce555ee) (0.22.0)\n",
            "Requirement already satisfied: google-auth!=2.24.0,!=2.25.0,<3.0.0.dev0,>=1.32.0 in /usr/local/lib/python3.11/dist-packages (from google-api-python-client->flyvis==1.1.3.dev2+gce555ee) (2.38.0)\n",
            "Requirement already satisfied: google-auth-httplib2<1.0.0,>=0.2.0 in /usr/local/lib/python3.11/dist-packages (from google-api-python-client->flyvis==1.1.3.dev2+gce555ee) (0.2.0)\n",
            "Requirement already satisfied: google-api-core!=2.0.*,!=2.1.*,!=2.2.*,!=2.3.0,<3.0.0.dev0,>=1.31.5 in /usr/local/lib/python3.11/dist-packages (from google-api-python-client->flyvis==1.1.3.dev2+gce555ee) (2.24.2)\n",
            "Requirement already satisfied: uritemplate<5,>=3.0.1 in /usr/local/lib/python3.11/dist-packages (from google-api-python-client->flyvis==1.1.3.dev2+gce555ee) (4.1.1)\n",
            "Requirement already satisfied: omegaconf<2.4,>=2.2 in /usr/local/lib/python3.11/dist-packages (from hydra-core->flyvis==1.1.3.dev2+gce555ee) (2.3.0)\n",
            "Requirement already satisfied: antlr4-python3-runtime==4.9.* in /usr/local/lib/python3.11/dist-packages (from hydra-core->flyvis==1.1.3.dev2+gce555ee) (4.9.3)\n",
            "Requirement already satisfied: packaging in /usr/local/lib/python3.11/dist-packages (from hydra-core->flyvis==1.1.3.dev2+gce555ee) (24.2)\n",
            "Requirement already satisfied: setuptools>=18.5 in /usr/local/lib/python3.11/dist-packages (from ipython->flyvis==1.1.3.dev2+gce555ee) (75.2.0)\n",
            "Requirement already satisfied: jedi>=0.16 in /usr/local/lib/python3.11/dist-packages (from ipython->flyvis==1.1.3.dev2+gce555ee) (0.19.2)\n",
            "Requirement already satisfied: decorator in /usr/local/lib/python3.11/dist-packages (from ipython->flyvis==1.1.3.dev2+gce555ee) (4.4.2)\n",
            "Requirement already satisfied: pickleshare in /usr/local/lib/python3.11/dist-packages (from ipython->flyvis==1.1.3.dev2+gce555ee) (0.7.5)\n",
            "Requirement already satisfied: traitlets>=4.2 in /usr/local/lib/python3.11/dist-packages (from ipython->flyvis==1.1.3.dev2+gce555ee) (5.7.1)\n",
            "Requirement already satisfied: prompt-toolkit!=3.0.0,!=3.0.1,<3.1.0,>=2.0.0 in /usr/local/lib/python3.11/dist-packages (from ipython->flyvis==1.1.3.dev2+gce555ee) (3.0.50)\n",
            "Requirement already satisfied: pygments in /usr/local/lib/python3.11/dist-packages (from ipython->flyvis==1.1.3.dev2+gce555ee) (2.18.0)\n",
            "Requirement already satisfied: backcall in /usr/local/lib/python3.11/dist-packages (from ipython->flyvis==1.1.3.dev2+gce555ee) (0.2.0)\n",
            "Requirement already satisfied: matplotlib-inline in /usr/local/lib/python3.11/dist-packages (from ipython->flyvis==1.1.3.dev2+gce555ee) (0.1.7)\n",
            "Requirement already satisfied: pexpect>4.3 in /usr/local/lib/python3.11/dist-packages (from ipython->flyvis==1.1.3.dev2+gce555ee) (4.9.0)\n",
            "Requirement already satisfied: ipykernel>=4.5.1 in /usr/local/lib/python3.11/dist-packages (from ipywidgets->flyvis==1.1.3.dev2+gce555ee) (6.17.1)\n",
            "Requirement already satisfied: ipython-genutils~=0.2.0 in /usr/local/lib/python3.11/dist-packages (from ipywidgets->flyvis==1.1.3.dev2+gce555ee) (0.2.0)\n",
            "Requirement already satisfied: widgetsnbextension~=3.6.0 in /usr/local/lib/python3.11/dist-packages (from ipywidgets->flyvis==1.1.3.dev2+gce555ee) (3.6.10)\n",
            "Requirement already satisfied: jupyterlab-widgets>=1.0.0 in /usr/local/lib/python3.11/dist-packages (from ipywidgets->flyvis==1.1.3.dev2+gce555ee) (3.0.13)\n",
            "Requirement already satisfied: notebook in /usr/local/lib/python3.11/dist-packages (from jupyter->flyvis==1.1.3.dev2+gce555ee) (6.5.7)\n",
            "Requirement already satisfied: jupyter-console in /usr/local/lib/python3.11/dist-packages (from jupyter->flyvis==1.1.3.dev2+gce555ee) (6.1.0)\n",
            "Requirement already satisfied: nbconvert in /usr/local/lib/python3.11/dist-packages (from jupyter->flyvis==1.1.3.dev2+gce555ee) (7.16.6)\n",
            "Requirement already satisfied: jupyterlab in /usr/local/lib/python3.11/dist-packages (from jupyter->flyvis==1.1.3.dev2+gce555ee) (4.3.6)\n",
            "Requirement already satisfied: contourpy>=1.0.1 in /usr/local/lib/python3.11/dist-packages (from matplotlib->flyvis==1.1.3.dev2+gce555ee) (1.3.1)\n",
            "Requirement already satisfied: cycler>=0.10 in /usr/local/lib/python3.11/dist-packages (from matplotlib->flyvis==1.1.3.dev2+gce555ee) (0.12.1)\n",
            "Requirement already satisfied: fonttools>=4.22.0 in /usr/local/lib/python3.11/dist-packages (from matplotlib->flyvis==1.1.3.dev2+gce555ee) (4.56.0)\n",
            "Requirement already satisfied: kiwisolver>=1.3.1 in /usr/local/lib/python3.11/dist-packages (from matplotlib->flyvis==1.1.3.dev2+gce555ee) (1.4.8)\n",
            "Requirement already satisfied: pillow>=8 in /usr/local/lib/python3.11/dist-packages (from matplotlib->flyvis==1.1.3.dev2+gce555ee) (11.1.0)\n",
            "Requirement already satisfied: pyparsing>=2.3.1 in /usr/local/lib/python3.11/dist-packages (from matplotlib->flyvis==1.1.3.dev2+gce555ee) (3.2.3)\n",
            "Requirement already satisfied: python-dateutil>=2.7 in /usr/local/lib/python3.11/dist-packages (from matplotlib->flyvis==1.1.3.dev2+gce555ee) (2.8.2)\n",
            "Requirement already satisfied: llvmlite<0.44,>=0.43.0dev0 in /usr/local/lib/python3.11/dist-packages (from numba->flyvis==1.1.3.dev2+gce555ee) (0.43.0)\n",
            "Requirement already satisfied: pytz>=2020.1 in /usr/local/lib/python3.11/dist-packages (from pandas->flyvis==1.1.3.dev2+gce555ee) (2025.2)\n",
            "Requirement already satisfied: tzdata>=2022.7 in /usr/local/lib/python3.11/dist-packages (from pandas->flyvis==1.1.3.dev2+gce555ee) (2025.2)\n",
            "Requirement already satisfied: iniconfig in /usr/local/lib/python3.11/dist-packages (from pytest->flyvis==1.1.3.dev2+gce555ee) (2.1.0)\n",
            "Requirement already satisfied: pluggy<2,>=1.5 in /usr/local/lib/python3.11/dist-packages (from pytest->flyvis==1.1.3.dev2+gce555ee) (1.5.0)\n",
            "Requirement already satisfied: charset-normalizer<4,>=2 in /usr/local/lib/python3.11/dist-packages (from requests->flyvis==1.1.3.dev2+gce555ee) (3.4.1)\n",
            "Requirement already satisfied: idna<4,>=2.5 in /usr/local/lib/python3.11/dist-packages (from requests->flyvis==1.1.3.dev2+gce555ee) (3.10)\n",
            "Requirement already satisfied: urllib3<3,>=1.21.1 in /usr/local/lib/python3.11/dist-packages (from requests->flyvis==1.1.3.dev2+gce555ee) (2.3.0)\n",
            "Requirement already satisfied: certifi>=2017.4.17 in /usr/local/lib/python3.11/dist-packages (from requests->flyvis==1.1.3.dev2+gce555ee) (2025.1.31)\n",
            "Requirement already satisfied: threadpoolctl>=3.1.0 in /usr/local/lib/python3.11/dist-packages (from scikit-learn->flyvis==1.1.3.dev2+gce555ee) (3.6.0)\n",
            "Requirement already satisfied: filelock in /usr/local/lib/python3.11/dist-packages (from torch->flyvis==1.1.3.dev2+gce555ee) (3.18.0)\n",
            "Requirement already satisfied: jinja2 in /usr/local/lib/python3.11/dist-packages (from torch->flyvis==1.1.3.dev2+gce555ee) (3.1.6)\n",
            "Requirement already satisfied: fsspec in /usr/local/lib/python3.11/dist-packages (from torch->flyvis==1.1.3.dev2+gce555ee) (2025.3.0)\n",
            "Requirement already satisfied: nvidia-cuda-nvrtc-cu12==12.4.127 in /usr/local/lib/python3.11/dist-packages (from torch->flyvis==1.1.3.dev2+gce555ee) (12.4.127)\n",
            "Requirement already satisfied: nvidia-cuda-runtime-cu12==12.4.127 in /usr/local/lib/python3.11/dist-packages (from torch->flyvis==1.1.3.dev2+gce555ee) (12.4.127)\n",
            "Requirement already satisfied: nvidia-cuda-cupti-cu12==12.4.127 in /usr/local/lib/python3.11/dist-packages (from torch->flyvis==1.1.3.dev2+gce555ee) (12.4.127)\n",
            "Requirement already satisfied: nvidia-cudnn-cu12==9.1.0.70 in /usr/local/lib/python3.11/dist-packages (from torch->flyvis==1.1.3.dev2+gce555ee) (9.1.0.70)\n",
            "Requirement already satisfied: nvidia-cublas-cu12==12.4.5.8 in /usr/local/lib/python3.11/dist-packages (from torch->flyvis==1.1.3.dev2+gce555ee) (12.4.5.8)\n",
            "Requirement already satisfied: nvidia-cufft-cu12==11.2.1.3 in /usr/local/lib/python3.11/dist-packages (from torch->flyvis==1.1.3.dev2+gce555ee) (11.2.1.3)\n",
            "Requirement already satisfied: nvidia-curand-cu12==10.3.5.147 in /usr/local/lib/python3.11/dist-packages (from torch->flyvis==1.1.3.dev2+gce555ee) (10.3.5.147)\n",
            "Requirement already satisfied: nvidia-cusolver-cu12==11.6.1.9 in /usr/local/lib/python3.11/dist-packages (from torch->flyvis==1.1.3.dev2+gce555ee) (11.6.1.9)\n",
            "Requirement already satisfied: nvidia-cusparse-cu12==12.3.1.170 in /usr/local/lib/python3.11/dist-packages (from torch->flyvis==1.1.3.dev2+gce555ee) (12.3.1.170)\n",
            "Requirement already satisfied: nvidia-cusparselt-cu12==0.6.2 in /usr/local/lib/python3.11/dist-packages (from torch->flyvis==1.1.3.dev2+gce555ee) (0.6.2)\n",
            "Requirement already satisfied: nvidia-nccl-cu12==2.21.5 in /usr/local/lib/python3.11/dist-packages (from torch->flyvis==1.1.3.dev2+gce555ee) (2.21.5)\n",
            "Requirement already satisfied: nvidia-nvtx-cu12==12.4.127 in /usr/local/lib/python3.11/dist-packages (from torch->flyvis==1.1.3.dev2+gce555ee) (12.4.127)\n",
            "Requirement already satisfied: nvidia-nvjitlink-cu12==12.4.127 in /usr/local/lib/python3.11/dist-packages (from torch->flyvis==1.1.3.dev2+gce555ee) (12.4.127)\n",
            "Requirement already satisfied: triton==3.2.0 in /usr/local/lib/python3.11/dist-packages (from torch->flyvis==1.1.3.dev2+gce555ee) (3.2.0)\n",
            "Requirement already satisfied: sympy==1.13.1 in /usr/local/lib/python3.11/dist-packages (from torch->flyvis==1.1.3.dev2+gce555ee) (1.13.1)\n",
            "Requirement already satisfied: mpmath<1.4,>=1.1.0 in /usr/local/lib/python3.11/dist-packages (from sympy==1.13.1->torch->flyvis==1.1.3.dev2+gce555ee) (1.3.0)\n",
            "Requirement already satisfied: pynndescent>=0.5 in /usr/local/lib/python3.11/dist-packages (from umap-learn->flyvis==1.1.3.dev2+gce555ee) (0.5.13)\n",
            "Requirement already satisfied: googleapis-common-protos<2.0.0,>=1.56.2 in /usr/local/lib/python3.11/dist-packages (from google-api-core!=2.0.*,!=2.1.*,!=2.2.*,!=2.3.0,<3.0.0.dev0,>=1.31.5->google-api-python-client->flyvis==1.1.3.dev2+gce555ee) (1.69.2)\n",
            "Requirement already satisfied: protobuf!=3.20.0,!=3.20.1,!=4.21.0,!=4.21.1,!=4.21.2,!=4.21.3,!=4.21.4,!=4.21.5,<7.0.0,>=3.19.5 in /usr/local/lib/python3.11/dist-packages (from google-api-core!=2.0.*,!=2.1.*,!=2.2.*,!=2.3.0,<3.0.0.dev0,>=1.31.5->google-api-python-client->flyvis==1.1.3.dev2+gce555ee) (5.29.4)\n",
            "Requirement already satisfied: proto-plus<2.0.0,>=1.22.3 in /usr/local/lib/python3.11/dist-packages (from google-api-core!=2.0.*,!=2.1.*,!=2.2.*,!=2.3.0,<3.0.0.dev0,>=1.31.5->google-api-python-client->flyvis==1.1.3.dev2+gce555ee) (1.26.1)\n",
            "Requirement already satisfied: cachetools<6.0,>=2.0.0 in /usr/local/lib/python3.11/dist-packages (from google-auth!=2.24.0,!=2.25.0,<3.0.0.dev0,>=1.32.0->google-api-python-client->flyvis==1.1.3.dev2+gce555ee) (5.5.2)\n",
            "Requirement already satisfied: pyasn1-modules>=0.2.1 in /usr/local/lib/python3.11/dist-packages (from google-auth!=2.24.0,!=2.25.0,<3.0.0.dev0,>=1.32.0->google-api-python-client->flyvis==1.1.3.dev2+gce555ee) (0.4.2)\n",
            "Requirement already satisfied: rsa<5,>=3.1.4 in /usr/local/lib/python3.11/dist-packages (from google-auth!=2.24.0,!=2.25.0,<3.0.0.dev0,>=1.32.0->google-api-python-client->flyvis==1.1.3.dev2+gce555ee) (4.9)\n",
            "Requirement already satisfied: debugpy>=1.0 in /usr/local/lib/python3.11/dist-packages (from ipykernel>=4.5.1->ipywidgets->flyvis==1.1.3.dev2+gce555ee) (1.8.0)\n",
            "Requirement already satisfied: jupyter-client>=6.1.12 in /usr/local/lib/python3.11/dist-packages (from ipykernel>=4.5.1->ipywidgets->flyvis==1.1.3.dev2+gce555ee) (7.4.9)\n",
            "Requirement already satisfied: nest-asyncio in /usr/local/lib/python3.11/dist-packages (from ipykernel>=4.5.1->ipywidgets->flyvis==1.1.3.dev2+gce555ee) (1.6.0)\n",
            "Requirement already satisfied: psutil in /usr/local/lib/python3.11/dist-packages (from ipykernel>=4.5.1->ipywidgets->flyvis==1.1.3.dev2+gce555ee) (5.9.5)\n",
            "Requirement already satisfied: pyzmq>=17 in /usr/local/lib/python3.11/dist-packages (from ipykernel>=4.5.1->ipywidgets->flyvis==1.1.3.dev2+gce555ee) (24.0.1)\n",
            "Requirement already satisfied: tornado>=6.1 in /usr/local/lib/python3.11/dist-packages (from ipykernel>=4.5.1->ipywidgets->flyvis==1.1.3.dev2+gce555ee) (6.4.2)\n",
            "Requirement already satisfied: parso<0.9.0,>=0.8.4 in /usr/local/lib/python3.11/dist-packages (from jedi>=0.16->ipython->flyvis==1.1.3.dev2+gce555ee) (0.8.4)\n",
            "Requirement already satisfied: ptyprocess>=0.5 in /usr/local/lib/python3.11/dist-packages (from pexpect>4.3->ipython->flyvis==1.1.3.dev2+gce555ee) (0.7.0)\n",
            "Requirement already satisfied: wcwidth in /usr/local/lib/python3.11/dist-packages (from prompt-toolkit!=3.0.0,!=3.0.1,<3.1.0,>=2.0.0->ipython->flyvis==1.1.3.dev2+gce555ee) (0.2.13)\n",
            "Requirement already satisfied: six>=1.5 in /usr/local/lib/python3.11/dist-packages (from python-dateutil>=2.7->matplotlib->flyvis==1.1.3.dev2+gce555ee) (1.17.0)\n",
            "Requirement already satisfied: argon2-cffi in /usr/local/lib/python3.11/dist-packages (from notebook->jupyter->flyvis==1.1.3.dev2+gce555ee) (23.1.0)\n",
            "Requirement already satisfied: jupyter-core>=4.6.1 in /usr/local/lib/python3.11/dist-packages (from notebook->jupyter->flyvis==1.1.3.dev2+gce555ee) (5.7.2)\n",
            "Requirement already satisfied: nbformat in /usr/local/lib/python3.11/dist-packages (from notebook->jupyter->flyvis==1.1.3.dev2+gce555ee) (5.10.4)\n",
            "Requirement already satisfied: Send2Trash>=1.8.0 in /usr/local/lib/python3.11/dist-packages (from notebook->jupyter->flyvis==1.1.3.dev2+gce555ee) (1.8.3)\n",
            "Requirement already satisfied: terminado>=0.8.3 in /usr/local/lib/python3.11/dist-packages (from notebook->jupyter->flyvis==1.1.3.dev2+gce555ee) (0.18.1)\n",
            "Requirement already satisfied: prometheus-client in /usr/local/lib/python3.11/dist-packages (from notebook->jupyter->flyvis==1.1.3.dev2+gce555ee) (0.21.1)\n",
            "Requirement already satisfied: nbclassic>=0.4.7 in /usr/local/lib/python3.11/dist-packages (from notebook->jupyter->flyvis==1.1.3.dev2+gce555ee) (1.2.0)\n",
            "Requirement already satisfied: beautifulsoup4 in /usr/local/lib/python3.11/dist-packages (from nbconvert->jupyter->flyvis==1.1.3.dev2+gce555ee) (4.13.3)\n",
            "Requirement already satisfied: bleach!=5.0.0 in /usr/local/lib/python3.11/dist-packages (from bleach[css]!=5.0.0->nbconvert->jupyter->flyvis==1.1.3.dev2+gce555ee) (6.2.0)\n",
            "Requirement already satisfied: defusedxml in /usr/local/lib/python3.11/dist-packages (from nbconvert->jupyter->flyvis==1.1.3.dev2+gce555ee) (0.7.1)\n",
            "Requirement already satisfied: jupyterlab-pygments in /usr/local/lib/python3.11/dist-packages (from nbconvert->jupyter->flyvis==1.1.3.dev2+gce555ee) (0.3.0)\n",
            "Requirement already satisfied: markupsafe>=2.0 in /usr/local/lib/python3.11/dist-packages (from nbconvert->jupyter->flyvis==1.1.3.dev2+gce555ee) (3.0.2)\n",
            "Requirement already satisfied: mistune<4,>=2.0.3 in /usr/local/lib/python3.11/dist-packages (from nbconvert->jupyter->flyvis==1.1.3.dev2+gce555ee) (3.1.3)\n",
            "Requirement already satisfied: nbclient>=0.5.0 in /usr/local/lib/python3.11/dist-packages (from nbconvert->jupyter->flyvis==1.1.3.dev2+gce555ee) (0.10.2)\n",
            "Requirement already satisfied: pandocfilters>=1.4.1 in /usr/local/lib/python3.11/dist-packages (from nbconvert->jupyter->flyvis==1.1.3.dev2+gce555ee) (1.5.1)\n",
            "Requirement already satisfied: async-lru>=1.0.0 in /usr/local/lib/python3.11/dist-packages (from jupyterlab->jupyter->flyvis==1.1.3.dev2+gce555ee) (2.0.5)\n",
            "Requirement already satisfied: httpx>=0.25.0 in /usr/local/lib/python3.11/dist-packages (from jupyterlab->jupyter->flyvis==1.1.3.dev2+gce555ee) (0.28.1)\n",
            "Requirement already satisfied: jupyter-lsp>=2.0.0 in /usr/local/lib/python3.11/dist-packages (from jupyterlab->jupyter->flyvis==1.1.3.dev2+gce555ee) (2.2.5)\n",
            "Requirement already satisfied: jupyter-server<3,>=2.4.0 in /usr/local/lib/python3.11/dist-packages (from jupyterlab->jupyter->flyvis==1.1.3.dev2+gce555ee) (2.15.0)\n",
            "Requirement already satisfied: jupyterlab-server<3,>=2.27.1 in /usr/local/lib/python3.11/dist-packages (from jupyterlab->jupyter->flyvis==1.1.3.dev2+gce555ee) (2.27.3)\n",
            "Requirement already satisfied: notebook-shim>=0.2 in /usr/local/lib/python3.11/dist-packages (from jupyterlab->jupyter->flyvis==1.1.3.dev2+gce555ee) (0.2.4)\n",
            "Requirement already satisfied: ruamel.yaml.clib>=0.2.7 in /usr/local/lib/python3.11/dist-packages (from ruamel.yaml->datamate->flyvis==1.1.3.dev2+gce555ee) (0.2.12)\n",
            "Requirement already satisfied: webencodings in /usr/local/lib/python3.11/dist-packages (from bleach!=5.0.0->bleach[css]!=5.0.0->nbconvert->jupyter->flyvis==1.1.3.dev2+gce555ee) (0.5.1)\n",
            "Requirement already satisfied: tinycss2<1.5,>=1.1.0 in /usr/local/lib/python3.11/dist-packages (from bleach[css]!=5.0.0->nbconvert->jupyter->flyvis==1.1.3.dev2+gce555ee) (1.4.0)\n",
            "Requirement already satisfied: anyio in /usr/local/lib/python3.11/dist-packages (from httpx>=0.25.0->jupyterlab->jupyter->flyvis==1.1.3.dev2+gce555ee) (4.9.0)\n",
            "Requirement already satisfied: httpcore==1.* in /usr/local/lib/python3.11/dist-packages (from httpx>=0.25.0->jupyterlab->jupyter->flyvis==1.1.3.dev2+gce555ee) (1.0.7)\n",
            "Requirement already satisfied: h11<0.15,>=0.13 in /usr/local/lib/python3.11/dist-packages (from httpcore==1.*->httpx>=0.25.0->jupyterlab->jupyter->flyvis==1.1.3.dev2+gce555ee) (0.14.0)\n",
            "Requirement already satisfied: entrypoints in /usr/local/lib/python3.11/dist-packages (from jupyter-client>=6.1.12->ipykernel>=4.5.1->ipywidgets->flyvis==1.1.3.dev2+gce555ee) (0.4)\n",
            "Requirement already satisfied: platformdirs>=2.5 in /usr/local/lib/python3.11/dist-packages (from jupyter-core>=4.6.1->notebook->jupyter->flyvis==1.1.3.dev2+gce555ee) (4.3.7)\n",
            "Requirement already satisfied: jupyter-events>=0.11.0 in /usr/local/lib/python3.11/dist-packages (from jupyter-server<3,>=2.4.0->jupyterlab->jupyter->flyvis==1.1.3.dev2+gce555ee) (0.12.0)\n",
            "Requirement already satisfied: jupyter-server-terminals>=0.4.4 in /usr/local/lib/python3.11/dist-packages (from jupyter-server<3,>=2.4.0->jupyterlab->jupyter->flyvis==1.1.3.dev2+gce555ee) (0.5.3)\n",
            "Requirement already satisfied: overrides>=5.0 in /usr/local/lib/python3.11/dist-packages (from jupyter-server<3,>=2.4.0->jupyterlab->jupyter->flyvis==1.1.3.dev2+gce555ee) (7.7.0)\n",
            "Requirement already satisfied: websocket-client>=1.7 in /usr/local/lib/python3.11/dist-packages (from jupyter-server<3,>=2.4.0->jupyterlab->jupyter->flyvis==1.1.3.dev2+gce555ee) (1.8.0)\n",
            "Requirement already satisfied: argon2-cffi-bindings in /usr/local/lib/python3.11/dist-packages (from argon2-cffi->notebook->jupyter->flyvis==1.1.3.dev2+gce555ee) (21.2.0)\n",
            "Requirement already satisfied: babel>=2.10 in /usr/local/lib/python3.11/dist-packages (from jupyterlab-server<3,>=2.27.1->jupyterlab->jupyter->flyvis==1.1.3.dev2+gce555ee) (2.17.0)\n",
            "Requirement already satisfied: json5>=0.9.0 in /usr/local/lib/python3.11/dist-packages (from jupyterlab-server<3,>=2.27.1->jupyterlab->jupyter->flyvis==1.1.3.dev2+gce555ee) (0.11.0)\n",
            "Requirement already satisfied: jsonschema>=4.18.0 in /usr/local/lib/python3.11/dist-packages (from jupyterlab-server<3,>=2.27.1->jupyterlab->jupyter->flyvis==1.1.3.dev2+gce555ee) (4.23.0)\n",
            "Requirement already satisfied: fastjsonschema>=2.15 in /usr/local/lib/python3.11/dist-packages (from nbformat->notebook->jupyter->flyvis==1.1.3.dev2+gce555ee) (2.21.1)\n",
            "Requirement already satisfied: pyasn1<0.7.0,>=0.6.1 in /usr/local/lib/python3.11/dist-packages (from pyasn1-modules>=0.2.1->google-auth!=2.24.0,!=2.25.0,<3.0.0.dev0,>=1.32.0->google-api-python-client->flyvis==1.1.3.dev2+gce555ee) (0.6.1)\n",
            "Requirement already satisfied: soupsieve>1.2 in /usr/local/lib/python3.11/dist-packages (from beautifulsoup4->nbconvert->jupyter->flyvis==1.1.3.dev2+gce555ee) (2.6)\n",
            "Requirement already satisfied: sniffio>=1.1 in /usr/local/lib/python3.11/dist-packages (from anyio->httpx>=0.25.0->jupyterlab->jupyter->flyvis==1.1.3.dev2+gce555ee) (1.3.1)\n",
            "Requirement already satisfied: attrs>=22.2.0 in /usr/local/lib/python3.11/dist-packages (from jsonschema>=4.18.0->jupyterlab-server<3,>=2.27.1->jupyterlab->jupyter->flyvis==1.1.3.dev2+gce555ee) (25.3.0)\n",
            "Requirement already satisfied: jsonschema-specifications>=2023.03.6 in /usr/local/lib/python3.11/dist-packages (from jsonschema>=4.18.0->jupyterlab-server<3,>=2.27.1->jupyterlab->jupyter->flyvis==1.1.3.dev2+gce555ee) (2024.10.1)\n",
            "Requirement already satisfied: referencing>=0.28.4 in /usr/local/lib/python3.11/dist-packages (from jsonschema>=4.18.0->jupyterlab-server<3,>=2.27.1->jupyterlab->jupyter->flyvis==1.1.3.dev2+gce555ee) (0.36.2)\n",
            "Requirement already satisfied: rpds-py>=0.7.1 in /usr/local/lib/python3.11/dist-packages (from jsonschema>=4.18.0->jupyterlab-server<3,>=2.27.1->jupyterlab->jupyter->flyvis==1.1.3.dev2+gce555ee) (0.24.0)\n",
            "Requirement already satisfied: python-json-logger>=2.0.4 in /usr/local/lib/python3.11/dist-packages (from jupyter-events>=0.11.0->jupyter-server<3,>=2.4.0->jupyterlab->jupyter->flyvis==1.1.3.dev2+gce555ee) (3.3.0)\n",
            "Requirement already satisfied: rfc3339-validator in /usr/local/lib/python3.11/dist-packages (from jupyter-events>=0.11.0->jupyter-server<3,>=2.4.0->jupyterlab->jupyter->flyvis==1.1.3.dev2+gce555ee) (0.1.4)\n",
            "Requirement already satisfied: rfc3986-validator>=0.1.1 in /usr/local/lib/python3.11/dist-packages (from jupyter-events>=0.11.0->jupyter-server<3,>=2.4.0->jupyterlab->jupyter->flyvis==1.1.3.dev2+gce555ee) (0.1.1)\n",
            "Requirement already satisfied: cffi>=1.0.1 in /usr/local/lib/python3.11/dist-packages (from argon2-cffi-bindings->argon2-cffi->notebook->jupyter->flyvis==1.1.3.dev2+gce555ee) (1.17.1)\n",
            "Requirement already satisfied: pycparser in /usr/local/lib/python3.11/dist-packages (from cffi>=1.0.1->argon2-cffi-bindings->argon2-cffi->notebook->jupyter->flyvis==1.1.3.dev2+gce555ee) (2.22)\n",
            "Requirement already satisfied: fqdn in /usr/local/lib/python3.11/dist-packages (from jsonschema[format-nongpl]>=4.18.0->jupyter-events>=0.11.0->jupyter-server<3,>=2.4.0->jupyterlab->jupyter->flyvis==1.1.3.dev2+gce555ee) (1.5.1)\n",
            "Requirement already satisfied: isoduration in /usr/local/lib/python3.11/dist-packages (from jsonschema[format-nongpl]>=4.18.0->jupyter-events>=0.11.0->jupyter-server<3,>=2.4.0->jupyterlab->jupyter->flyvis==1.1.3.dev2+gce555ee) (20.11.0)\n",
            "Requirement already satisfied: jsonpointer>1.13 in /usr/local/lib/python3.11/dist-packages (from jsonschema[format-nongpl]>=4.18.0->jupyter-events>=0.11.0->jupyter-server<3,>=2.4.0->jupyterlab->jupyter->flyvis==1.1.3.dev2+gce555ee) (3.0.0)\n",
            "Requirement already satisfied: uri-template in /usr/local/lib/python3.11/dist-packages (from jsonschema[format-nongpl]>=4.18.0->jupyter-events>=0.11.0->jupyter-server<3,>=2.4.0->jupyterlab->jupyter->flyvis==1.1.3.dev2+gce555ee) (1.3.0)\n",
            "Requirement already satisfied: webcolors>=24.6.0 in /usr/local/lib/python3.11/dist-packages (from jsonschema[format-nongpl]>=4.18.0->jupyter-events>=0.11.0->jupyter-server<3,>=2.4.0->jupyterlab->jupyter->flyvis==1.1.3.dev2+gce555ee) (24.11.1)\n",
            "Requirement already satisfied: arrow>=0.15.0 in /usr/local/lib/python3.11/dist-packages (from isoduration->jsonschema[format-nongpl]>=4.18.0->jupyter-events>=0.11.0->jupyter-server<3,>=2.4.0->jupyterlab->jupyter->flyvis==1.1.3.dev2+gce555ee) (1.3.0)\n",
            "Requirement already satisfied: types-python-dateutil>=2.8.10 in /usr/local/lib/python3.11/dist-packages (from arrow>=0.15.0->isoduration->jsonschema[format-nongpl]>=4.18.0->jupyter-events>=0.11.0->jupyter-server<3,>=2.4.0->jupyterlab->jupyter->flyvis==1.1.3.dev2+gce555ee) (2.9.0.20241206)\n",
            "Building wheels for collected packages: flyvis\n",
            "  Building editable for flyvis (pyproject.toml) ... \u001b[?25l\u001b[?25hdone\n",
            "  Created wheel for flyvis: filename=flyvis-1.1.3.dev2+gce555ee-0.editable-py3-none-any.whl size=5515 sha256=ce0c88800ac8b68f56cee56cececb9a37a174f2205507adcbc83143fa1044413\n",
            "  Stored in directory: /tmp/pip-ephem-wheel-cache-3n8qbpdu/wheels/42/e3/6a/09dda79f28c6cfd7dce04885577fa39bb54a6281dbc757fc5b\n",
            "Successfully built flyvis\n",
            "Installing collected packages: flyvis\n",
            "  Attempting uninstall: flyvis\n",
            "    Found existing installation: flyvis 1.1.3.dev2+gce555ee\n",
            "    Uninstalling flyvis-1.1.3.dev2+gce555ee:\n",
            "      Successfully uninstalled flyvis-1.1.3.dev2+gce555ee\n",
            "Successfully installed flyvis-1.1.3.dev2+gce555ee\n"
          ]
        }
      ],
      "source": [
        "# @markdown **Install Flyvis**\n",
        "if IN_COLAB:\n",
        "    !git clone https://github.com/TuragaLab/flyvis.git\n",
        "    %cd /content/flyvis\n",
        "    !pip install -e .[examples]"
      ]
    },
    {
      "cell_type": "markdown",
      "metadata": {
        "id": "fz7783IyuwKs"
      },
      "source": [
        "## Moving edge stimuli\n",
        "\n",
        "To elicit moving edge responses and characterise the motion selectivity of neurons, experimenters show an ON or OFF edge moving in different cardinal directions. We generate and render these stimuli with the `MovingEdge` dataset."
      ]
    },
    {
      "cell_type": "code",
      "source": [
        "!flyvis download-pretrained"
      ],
      "metadata": {
        "id": "M_Gj2aX25lLb",
        "outputId": "382d2abf-6710-47fa-986b-67fe6947204e",
        "colab": {
          "base_uri": "https://localhost:8080/"
        }
      },
      "execution_count": 3,
      "outputs": [
        {
          "output_type": "stream",
          "name": "stdout",
          "text": [
            "[2025-04-03 01:49:00] utils:162 NumExpr defaulting to 2 threads.\n",
            "[2025-04-03 01:49:03] __init__:49 file_cache is only supported with oauth2client<4.0.0\n",
            "Downloading results_umap_and_clustering.zip to /content/flyvis/data/results_umap_and_clustering.zip.\n",
            "Progress results_umap_and_clustering.zip: 100%\n",
            "Checksum OK for results_umap_and_clustering.zip.\n",
            "Unpacked results_umap_and_clustering.zip.\n",
            "Downloading results_pretrained_models.zip to /content/flyvis/data/results_pretrained_models.zip.\n",
            "Progress results_pretrained_models.zip: 100%\n",
            "Checksum OK for results_pretrained_models.zip.\n",
            "Unpacked results_pretrained_models.zip.\n"
          ]
        }
      ]
    },
    {
      "cell_type": "code",
      "execution_count": 4,
      "metadata": {
        "execution": {
          "iopub.execute_input": "2024-12-08T18:36:12.022168Z",
          "iopub.status.busy": "2024-12-08T18:36:12.021862Z",
          "iopub.status.idle": "2024-12-08T18:36:16.585685Z",
          "shell.execute_reply": "2024-12-08T18:36:16.584315Z"
        },
        "id": "h5Hfyy3tyTQG"
      },
      "outputs": [],
      "source": [
        "import matplotlib.pyplot as plt\n",
        "import numpy as np\n",
        "import torch\n",
        "\n",
        "\n",
        "from flyvis.datasets.moving_bar import MovingEdge\n",
        "from flyvis.analysis.animations.hexscatter import HexScatter"
      ]
    },
    {
      "cell_type": "code",
      "execution_count": 5,
      "metadata": {
        "execution": {
          "iopub.execute_input": "2024-12-08T18:36:16.590349Z",
          "iopub.status.busy": "2024-12-08T18:36:16.589568Z",
          "iopub.status.idle": "2024-12-08T18:36:17.496278Z",
          "shell.execute_reply": "2024-12-08T18:36:17.494506Z"
        },
        "id": "lI7elnklmcrh",
        "outputId": "b776b95b-0d49-436d-b718-39f7a4be790b",
        "colab": {
          "base_uri": "https://localhost:8080/",
          "height": 49,
          "referenced_widgets": [
            "2073e43e7d034412910f41bec3ba79c0",
            "b4ef1876271947df82a6058c3dcfd404",
            "e854e362945c4d4db3af78a7aa0729d8",
            "8cbc8e2fde6940b3b00e9a03884fd635",
            "90f8c30ef3a8435ba64a4ac3edd3cb3e",
            "d52a4964770a45a7a352e5a243d5b331",
            "8cdabb045eb94bb2ad3dd5cad01440ef",
            "2b379c2e66cd4e958be39f3fa224d0c2",
            "793556d2b5c9497e9c6dc6cdd7c89714",
            "224bddfbefb34591b3e58c37c65aa555",
            "87889bf009a94fbea30c0d25e6d028cc"
          ]
        }
      },
      "outputs": [
        {
          "output_type": "display_data",
          "data": {
            "text/plain": [
              "building stimuli:   0%|          | 0/24 [00:00<?, ?it/s]"
            ],
            "application/vnd.jupyter.widget-view+json": {
              "version_major": 2,
              "version_minor": 0,
              "model_id": "2073e43e7d034412910f41bec3ba79c0"
            }
          },
          "metadata": {}
        }
      ],
      "source": [
        "# initialize dataset\n",
        "# make the dataset\n",
        "dataset = MovingEdge(\n",
        "    offsets=[-10, 11],  # offset of bar from center in 1 * radians(2.25) led size\n",
        "    intensities=[0, 1],  # intensity of bar\n",
        "    speeds=[19],  # speed of bar in 1 * radians(5.8) / s\n",
        "    height=80,  # height of moving bar in 1 * radians(2.25) led size\n",
        "    post_pad_mode=\"continue\",  # for post-stimulus period, continue with the last frame of the stimulus\n",
        "    t_pre=1.0,  # duration of pre-stimulus period\n",
        "    t_post=1.0,  # duration of post-stimulus period\n",
        "    dt=1 / 200,  # temporal resolution of rendered video\n",
        "    angles=list(np.arange(0, 360, 30)),  # motion direction (orthogonal to edge)\n",
        ")"
      ]
    },
    {
      "cell_type": "code",
      "execution_count": 6,
      "metadata": {
        "colab": {
          "base_uri": "https://localhost:8080/",
          "height": 802
        },
        "execution": {
          "iopub.execute_input": "2024-12-08T18:36:17.501863Z",
          "iopub.status.busy": "2024-12-08T18:36:17.501611Z",
          "iopub.status.idle": "2024-12-08T18:36:17.519260Z",
          "shell.execute_reply": "2024-12-08T18:36:17.518190Z"
        },
        "id": "h5LOmW2RwYRv",
        "outputId": "5d9d15ce-b35e-4154-8a26-d70969c4ecf0"
      },
      "outputs": [
        {
          "output_type": "execute_result",
          "data": {
            "text/plain": [
              "    angle  width  intensity    t_stim  speed\n",
              "0       0     80          0  0.428766     19\n",
              "1       0     80          1  0.428766     19\n",
              "2      30     80          0  0.428766     19\n",
              "3      30     80          1  0.428766     19\n",
              "4      60     80          0  0.428766     19\n",
              "5      60     80          1  0.428766     19\n",
              "6      90     80          0  0.428766     19\n",
              "7      90     80          1  0.428766     19\n",
              "8     120     80          0  0.428766     19\n",
              "9     120     80          1  0.428766     19\n",
              "10    150     80          0  0.428766     19\n",
              "11    150     80          1  0.428766     19\n",
              "12    180     80          0  0.428766     19\n",
              "13    180     80          1  0.428766     19\n",
              "14    210     80          0  0.428766     19\n",
              "15    210     80          1  0.428766     19\n",
              "16    240     80          0  0.428766     19\n",
              "17    240     80          1  0.428766     19\n",
              "18    270     80          0  0.428766     19\n",
              "19    270     80          1  0.428766     19\n",
              "20    300     80          0  0.428766     19\n",
              "21    300     80          1  0.428766     19\n",
              "22    330     80          0  0.428766     19\n",
              "23    330     80          1  0.428766     19"
            ],
            "text/html": [
              "\n",
              "  <div id=\"df-b58883c5-01e5-4131-b037-9c8f63450b16\" class=\"colab-df-container\">\n",
              "    <div>\n",
              "<style scoped>\n",
              "    .dataframe tbody tr th:only-of-type {\n",
              "        vertical-align: middle;\n",
              "    }\n",
              "\n",
              "    .dataframe tbody tr th {\n",
              "        vertical-align: top;\n",
              "    }\n",
              "\n",
              "    .dataframe thead th {\n",
              "        text-align: right;\n",
              "    }\n",
              "</style>\n",
              "<table border=\"1\" class=\"dataframe\">\n",
              "  <thead>\n",
              "    <tr style=\"text-align: right;\">\n",
              "      <th></th>\n",
              "      <th>angle</th>\n",
              "      <th>width</th>\n",
              "      <th>intensity</th>\n",
              "      <th>t_stim</th>\n",
              "      <th>speed</th>\n",
              "    </tr>\n",
              "  </thead>\n",
              "  <tbody>\n",
              "    <tr>\n",
              "      <th>0</th>\n",
              "      <td>0</td>\n",
              "      <td>80</td>\n",
              "      <td>0</td>\n",
              "      <td>0.428766</td>\n",
              "      <td>19</td>\n",
              "    </tr>\n",
              "    <tr>\n",
              "      <th>1</th>\n",
              "      <td>0</td>\n",
              "      <td>80</td>\n",
              "      <td>1</td>\n",
              "      <td>0.428766</td>\n",
              "      <td>19</td>\n",
              "    </tr>\n",
              "    <tr>\n",
              "      <th>2</th>\n",
              "      <td>30</td>\n",
              "      <td>80</td>\n",
              "      <td>0</td>\n",
              "      <td>0.428766</td>\n",
              "      <td>19</td>\n",
              "    </tr>\n",
              "    <tr>\n",
              "      <th>3</th>\n",
              "      <td>30</td>\n",
              "      <td>80</td>\n",
              "      <td>1</td>\n",
              "      <td>0.428766</td>\n",
              "      <td>19</td>\n",
              "    </tr>\n",
              "    <tr>\n",
              "      <th>4</th>\n",
              "      <td>60</td>\n",
              "      <td>80</td>\n",
              "      <td>0</td>\n",
              "      <td>0.428766</td>\n",
              "      <td>19</td>\n",
              "    </tr>\n",
              "    <tr>\n",
              "      <th>5</th>\n",
              "      <td>60</td>\n",
              "      <td>80</td>\n",
              "      <td>1</td>\n",
              "      <td>0.428766</td>\n",
              "      <td>19</td>\n",
              "    </tr>\n",
              "    <tr>\n",
              "      <th>6</th>\n",
              "      <td>90</td>\n",
              "      <td>80</td>\n",
              "      <td>0</td>\n",
              "      <td>0.428766</td>\n",
              "      <td>19</td>\n",
              "    </tr>\n",
              "    <tr>\n",
              "      <th>7</th>\n",
              "      <td>90</td>\n",
              "      <td>80</td>\n",
              "      <td>1</td>\n",
              "      <td>0.428766</td>\n",
              "      <td>19</td>\n",
              "    </tr>\n",
              "    <tr>\n",
              "      <th>8</th>\n",
              "      <td>120</td>\n",
              "      <td>80</td>\n",
              "      <td>0</td>\n",
              "      <td>0.428766</td>\n",
              "      <td>19</td>\n",
              "    </tr>\n",
              "    <tr>\n",
              "      <th>9</th>\n",
              "      <td>120</td>\n",
              "      <td>80</td>\n",
              "      <td>1</td>\n",
              "      <td>0.428766</td>\n",
              "      <td>19</td>\n",
              "    </tr>\n",
              "    <tr>\n",
              "      <th>10</th>\n",
              "      <td>150</td>\n",
              "      <td>80</td>\n",
              "      <td>0</td>\n",
              "      <td>0.428766</td>\n",
              "      <td>19</td>\n",
              "    </tr>\n",
              "    <tr>\n",
              "      <th>11</th>\n",
              "      <td>150</td>\n",
              "      <td>80</td>\n",
              "      <td>1</td>\n",
              "      <td>0.428766</td>\n",
              "      <td>19</td>\n",
              "    </tr>\n",
              "    <tr>\n",
              "      <th>12</th>\n",
              "      <td>180</td>\n",
              "      <td>80</td>\n",
              "      <td>0</td>\n",
              "      <td>0.428766</td>\n",
              "      <td>19</td>\n",
              "    </tr>\n",
              "    <tr>\n",
              "      <th>13</th>\n",
              "      <td>180</td>\n",
              "      <td>80</td>\n",
              "      <td>1</td>\n",
              "      <td>0.428766</td>\n",
              "      <td>19</td>\n",
              "    </tr>\n",
              "    <tr>\n",
              "      <th>14</th>\n",
              "      <td>210</td>\n",
              "      <td>80</td>\n",
              "      <td>0</td>\n",
              "      <td>0.428766</td>\n",
              "      <td>19</td>\n",
              "    </tr>\n",
              "    <tr>\n",
              "      <th>15</th>\n",
              "      <td>210</td>\n",
              "      <td>80</td>\n",
              "      <td>1</td>\n",
              "      <td>0.428766</td>\n",
              "      <td>19</td>\n",
              "    </tr>\n",
              "    <tr>\n",
              "      <th>16</th>\n",
              "      <td>240</td>\n",
              "      <td>80</td>\n",
              "      <td>0</td>\n",
              "      <td>0.428766</td>\n",
              "      <td>19</td>\n",
              "    </tr>\n",
              "    <tr>\n",
              "      <th>17</th>\n",
              "      <td>240</td>\n",
              "      <td>80</td>\n",
              "      <td>1</td>\n",
              "      <td>0.428766</td>\n",
              "      <td>19</td>\n",
              "    </tr>\n",
              "    <tr>\n",
              "      <th>18</th>\n",
              "      <td>270</td>\n",
              "      <td>80</td>\n",
              "      <td>0</td>\n",
              "      <td>0.428766</td>\n",
              "      <td>19</td>\n",
              "    </tr>\n",
              "    <tr>\n",
              "      <th>19</th>\n",
              "      <td>270</td>\n",
              "      <td>80</td>\n",
              "      <td>1</td>\n",
              "      <td>0.428766</td>\n",
              "      <td>19</td>\n",
              "    </tr>\n",
              "    <tr>\n",
              "      <th>20</th>\n",
              "      <td>300</td>\n",
              "      <td>80</td>\n",
              "      <td>0</td>\n",
              "      <td>0.428766</td>\n",
              "      <td>19</td>\n",
              "    </tr>\n",
              "    <tr>\n",
              "      <th>21</th>\n",
              "      <td>300</td>\n",
              "      <td>80</td>\n",
              "      <td>1</td>\n",
              "      <td>0.428766</td>\n",
              "      <td>19</td>\n",
              "    </tr>\n",
              "    <tr>\n",
              "      <th>22</th>\n",
              "      <td>330</td>\n",
              "      <td>80</td>\n",
              "      <td>0</td>\n",
              "      <td>0.428766</td>\n",
              "      <td>19</td>\n",
              "    </tr>\n",
              "    <tr>\n",
              "      <th>23</th>\n",
              "      <td>330</td>\n",
              "      <td>80</td>\n",
              "      <td>1</td>\n",
              "      <td>0.428766</td>\n",
              "      <td>19</td>\n",
              "    </tr>\n",
              "  </tbody>\n",
              "</table>\n",
              "</div>\n",
              "    <div class=\"colab-df-buttons\">\n",
              "\n",
              "  <div class=\"colab-df-container\">\n",
              "    <button class=\"colab-df-convert\" onclick=\"convertToInteractive('df-b58883c5-01e5-4131-b037-9c8f63450b16')\"\n",
              "            title=\"Convert this dataframe to an interactive table.\"\n",
              "            style=\"display:none;\">\n",
              "\n",
              "  <svg xmlns=\"http://www.w3.org/2000/svg\" height=\"24px\" viewBox=\"0 -960 960 960\">\n",
              "    <path d=\"M120-120v-720h720v720H120Zm60-500h600v-160H180v160Zm220 220h160v-160H400v160Zm0 220h160v-160H400v160ZM180-400h160v-160H180v160Zm440 0h160v-160H620v160ZM180-180h160v-160H180v160Zm440 0h160v-160H620v160Z\"/>\n",
              "  </svg>\n",
              "    </button>\n",
              "\n",
              "  <style>\n",
              "    .colab-df-container {\n",
              "      display:flex;\n",
              "      gap: 12px;\n",
              "    }\n",
              "\n",
              "    .colab-df-convert {\n",
              "      background-color: #E8F0FE;\n",
              "      border: none;\n",
              "      border-radius: 50%;\n",
              "      cursor: pointer;\n",
              "      display: none;\n",
              "      fill: #1967D2;\n",
              "      height: 32px;\n",
              "      padding: 0 0 0 0;\n",
              "      width: 32px;\n",
              "    }\n",
              "\n",
              "    .colab-df-convert:hover {\n",
              "      background-color: #E2EBFA;\n",
              "      box-shadow: 0px 1px 2px rgba(60, 64, 67, 0.3), 0px 1px 3px 1px rgba(60, 64, 67, 0.15);\n",
              "      fill: #174EA6;\n",
              "    }\n",
              "\n",
              "    .colab-df-buttons div {\n",
              "      margin-bottom: 4px;\n",
              "    }\n",
              "\n",
              "    [theme=dark] .colab-df-convert {\n",
              "      background-color: #3B4455;\n",
              "      fill: #D2E3FC;\n",
              "    }\n",
              "\n",
              "    [theme=dark] .colab-df-convert:hover {\n",
              "      background-color: #434B5C;\n",
              "      box-shadow: 0px 1px 3px 1px rgba(0, 0, 0, 0.15);\n",
              "      filter: drop-shadow(0px 1px 2px rgba(0, 0, 0, 0.3));\n",
              "      fill: #FFFFFF;\n",
              "    }\n",
              "  </style>\n",
              "\n",
              "    <script>\n",
              "      const buttonEl =\n",
              "        document.querySelector('#df-b58883c5-01e5-4131-b037-9c8f63450b16 button.colab-df-convert');\n",
              "      buttonEl.style.display =\n",
              "        google.colab.kernel.accessAllowed ? 'block' : 'none';\n",
              "\n",
              "      async function convertToInteractive(key) {\n",
              "        const element = document.querySelector('#df-b58883c5-01e5-4131-b037-9c8f63450b16');\n",
              "        const dataTable =\n",
              "          await google.colab.kernel.invokeFunction('convertToInteractive',\n",
              "                                                    [key], {});\n",
              "        if (!dataTable) return;\n",
              "\n",
              "        const docLinkHtml = 'Like what you see? Visit the ' +\n",
              "          '<a target=\"_blank\" href=https://colab.research.google.com/notebooks/data_table.ipynb>data table notebook</a>'\n",
              "          + ' to learn more about interactive tables.';\n",
              "        element.innerHTML = '';\n",
              "        dataTable['output_type'] = 'display_data';\n",
              "        await google.colab.output.renderOutput(dataTable, element);\n",
              "        const docLink = document.createElement('div');\n",
              "        docLink.innerHTML = docLinkHtml;\n",
              "        element.appendChild(docLink);\n",
              "      }\n",
              "    </script>\n",
              "  </div>\n",
              "\n",
              "\n",
              "<div id=\"df-a5791300-9efb-4b4e-91cc-a0477c38ac94\">\n",
              "  <button class=\"colab-df-quickchart\" onclick=\"quickchart('df-a5791300-9efb-4b4e-91cc-a0477c38ac94')\"\n",
              "            title=\"Suggest charts\"\n",
              "            style=\"display:none;\">\n",
              "\n",
              "<svg xmlns=\"http://www.w3.org/2000/svg\" height=\"24px\"viewBox=\"0 0 24 24\"\n",
              "     width=\"24px\">\n",
              "    <g>\n",
              "        <path d=\"M19 3H5c-1.1 0-2 .9-2 2v14c0 1.1.9 2 2 2h14c1.1 0 2-.9 2-2V5c0-1.1-.9-2-2-2zM9 17H7v-7h2v7zm4 0h-2V7h2v10zm4 0h-2v-4h2v4z\"/>\n",
              "    </g>\n",
              "</svg>\n",
              "  </button>\n",
              "\n",
              "<style>\n",
              "  .colab-df-quickchart {\n",
              "      --bg-color: #E8F0FE;\n",
              "      --fill-color: #1967D2;\n",
              "      --hover-bg-color: #E2EBFA;\n",
              "      --hover-fill-color: #174EA6;\n",
              "      --disabled-fill-color: #AAA;\n",
              "      --disabled-bg-color: #DDD;\n",
              "  }\n",
              "\n",
              "  [theme=dark] .colab-df-quickchart {\n",
              "      --bg-color: #3B4455;\n",
              "      --fill-color: #D2E3FC;\n",
              "      --hover-bg-color: #434B5C;\n",
              "      --hover-fill-color: #FFFFFF;\n",
              "      --disabled-bg-color: #3B4455;\n",
              "      --disabled-fill-color: #666;\n",
              "  }\n",
              "\n",
              "  .colab-df-quickchart {\n",
              "    background-color: var(--bg-color);\n",
              "    border: none;\n",
              "    border-radius: 50%;\n",
              "    cursor: pointer;\n",
              "    display: none;\n",
              "    fill: var(--fill-color);\n",
              "    height: 32px;\n",
              "    padding: 0;\n",
              "    width: 32px;\n",
              "  }\n",
              "\n",
              "  .colab-df-quickchart:hover {\n",
              "    background-color: var(--hover-bg-color);\n",
              "    box-shadow: 0 1px 2px rgba(60, 64, 67, 0.3), 0 1px 3px 1px rgba(60, 64, 67, 0.15);\n",
              "    fill: var(--button-hover-fill-color);\n",
              "  }\n",
              "\n",
              "  .colab-df-quickchart-complete:disabled,\n",
              "  .colab-df-quickchart-complete:disabled:hover {\n",
              "    background-color: var(--disabled-bg-color);\n",
              "    fill: var(--disabled-fill-color);\n",
              "    box-shadow: none;\n",
              "  }\n",
              "\n",
              "  .colab-df-spinner {\n",
              "    border: 2px solid var(--fill-color);\n",
              "    border-color: transparent;\n",
              "    border-bottom-color: var(--fill-color);\n",
              "    animation:\n",
              "      spin 1s steps(1) infinite;\n",
              "  }\n",
              "\n",
              "  @keyframes spin {\n",
              "    0% {\n",
              "      border-color: transparent;\n",
              "      border-bottom-color: var(--fill-color);\n",
              "      border-left-color: var(--fill-color);\n",
              "    }\n",
              "    20% {\n",
              "      border-color: transparent;\n",
              "      border-left-color: var(--fill-color);\n",
              "      border-top-color: var(--fill-color);\n",
              "    }\n",
              "    30% {\n",
              "      border-color: transparent;\n",
              "      border-left-color: var(--fill-color);\n",
              "      border-top-color: var(--fill-color);\n",
              "      border-right-color: var(--fill-color);\n",
              "    }\n",
              "    40% {\n",
              "      border-color: transparent;\n",
              "      border-right-color: var(--fill-color);\n",
              "      border-top-color: var(--fill-color);\n",
              "    }\n",
              "    60% {\n",
              "      border-color: transparent;\n",
              "      border-right-color: var(--fill-color);\n",
              "    }\n",
              "    80% {\n",
              "      border-color: transparent;\n",
              "      border-right-color: var(--fill-color);\n",
              "      border-bottom-color: var(--fill-color);\n",
              "    }\n",
              "    90% {\n",
              "      border-color: transparent;\n",
              "      border-bottom-color: var(--fill-color);\n",
              "    }\n",
              "  }\n",
              "</style>\n",
              "\n",
              "  <script>\n",
              "    async function quickchart(key) {\n",
              "      const quickchartButtonEl =\n",
              "        document.querySelector('#' + key + ' button');\n",
              "      quickchartButtonEl.disabled = true;  // To prevent multiple clicks.\n",
              "      quickchartButtonEl.classList.add('colab-df-spinner');\n",
              "      try {\n",
              "        const charts = await google.colab.kernel.invokeFunction(\n",
              "            'suggestCharts', [key], {});\n",
              "      } catch (error) {\n",
              "        console.error('Error during call to suggestCharts:', error);\n",
              "      }\n",
              "      quickchartButtonEl.classList.remove('colab-df-spinner');\n",
              "      quickchartButtonEl.classList.add('colab-df-quickchart-complete');\n",
              "    }\n",
              "    (() => {\n",
              "      let quickchartButtonEl =\n",
              "        document.querySelector('#df-a5791300-9efb-4b4e-91cc-a0477c38ac94 button');\n",
              "      quickchartButtonEl.style.display =\n",
              "        google.colab.kernel.accessAllowed ? 'block' : 'none';\n",
              "    })();\n",
              "  </script>\n",
              "</div>\n",
              "\n",
              "    </div>\n",
              "  </div>\n"
            ],
            "application/vnd.google.colaboratory.intrinsic+json": {
              "type": "dataframe",
              "summary": "{\n  \"name\": \"# the dataset has four samples, one corresponding to each row\",\n  \"rows\": 24,\n  \"fields\": [\n    {\n      \"column\": \"angle\",\n      \"properties\": {\n        \"dtype\": \"number\",\n        \"std\": 105,\n        \"min\": 0,\n        \"max\": 330,\n        \"num_unique_values\": 12,\n        \"samples\": [\n          300,\n          270,\n          0\n        ],\n        \"semantic_type\": \"\",\n        \"description\": \"\"\n      }\n    },\n    {\n      \"column\": \"width\",\n      \"properties\": {\n        \"dtype\": \"number\",\n        \"std\": 0,\n        \"min\": 80,\n        \"max\": 80,\n        \"num_unique_values\": 1,\n        \"samples\": [\n          80\n        ],\n        \"semantic_type\": \"\",\n        \"description\": \"\"\n      }\n    },\n    {\n      \"column\": \"intensity\",\n      \"properties\": {\n        \"dtype\": \"number\",\n        \"std\": 0,\n        \"min\": 0,\n        \"max\": 1,\n        \"num_unique_values\": 2,\n        \"samples\": [\n          1\n        ],\n        \"semantic_type\": \"\",\n        \"description\": \"\"\n      }\n    },\n    {\n      \"column\": \"t_stim\",\n      \"properties\": {\n        \"dtype\": \"number\",\n        \"std\": 0.0,\n        \"min\": 0.42876588021778583,\n        \"max\": 0.42876588021778583,\n        \"num_unique_values\": 1,\n        \"samples\": [\n          0.42876588021778583\n        ],\n        \"semantic_type\": \"\",\n        \"description\": \"\"\n      }\n    },\n    {\n      \"column\": \"speed\",\n      \"properties\": {\n        \"dtype\": \"number\",\n        \"std\": 0,\n        \"min\": 19,\n        \"max\": 19,\n        \"num_unique_values\": 1,\n        \"samples\": [\n          19\n        ],\n        \"semantic_type\": \"\",\n        \"description\": \"\"\n      }\n    }\n  ]\n}"
            }
          },
          "metadata": {},
          "execution_count": 6
        }
      ],
      "source": [
        "# view stimulus parameters\n",
        "dataset.arg_df\n",
        "# the dataset has four samples, one corresponding to each row"
      ]
    },
    {
      "cell_type": "code",
      "execution_count": 7,
      "metadata": {
        "colab": {
          "base_uri": "https://localhost:8080/",
          "height": 702
        },
        "execution": {
          "iopub.execute_input": "2024-12-08T18:36:17.566534Z",
          "iopub.status.busy": "2024-12-08T18:36:17.566030Z",
          "iopub.status.idle": "2024-12-08T18:36:19.614521Z",
          "shell.execute_reply": "2024-12-08T18:36:19.613372Z"
        },
        "id": "7g9pyNQcmmbz",
        "outputId": "6d3a7ce4-4445-40f3-f18a-80c6ea2aeecc"
      },
      "outputs": [
        {
          "output_type": "stream",
          "name": "stdout",
          "text": [
            "Animation interrupted. Displaying last frame.\n"
          ]
        },
        {
          "output_type": "display_data",
          "data": {
            "text/plain": [
              "<Figure size 300x300 with 1 Axes>"
            ],
            "image/png": "[encoded data removed]"
          },
          "metadata": {}
        },
        {
          "output_type": "display_data",
          "data": {
            "text/plain": [
              "<Figure size 300x300 with 1 Axes>"
            ],
            "image/png": "[encoded data removed]"
          },
          "metadata": {
            "needs_background": "light"
          }
        }
      ],
      "source": [
        "# visualize single sample\n",
        "# %#matplotlib notebook\n",
        "animation = HexScatter(\n",
        "    dataset[3][None, ::25, None], vmin=0, vmax=1\n",
        ")  # intensity=1, radius=6\n",
        "animation.animate_in_notebook()"
      ]
    },
    {
      "cell_type": "markdown",
      "metadata": {
        "id": "W9NDyBDbwqhd"
      },
      "source": [
        "## Moving edge response\n",
        "\n",
        "Now that we have generated the stimulus, we can use it to drive a trained connectome-constrained network."
      ]
    },
    {
      "cell_type": "code",
      "execution_count": 8,
      "metadata": {
        "execution": {
          "iopub.execute_input": "2024-12-08T18:36:19.620250Z",
          "iopub.status.busy": "2024-12-08T18:36:19.619976Z",
          "iopub.status.idle": "2024-12-08T18:36:19.869590Z",
          "shell.execute_reply": "2024-12-08T18:36:19.868389Z"
        },
        "id": "freOR6U0GWzS"
      },
      "outputs": [],
      "source": [
        "from flyvis import results_dir\n",
        "from flyvis.network import NetworkView\n",
        "\n",
        "# model are already sorted by task error\n",
        "# we take the best task-performing model from the pre-sorted ensemble\n",
        "network_view = NetworkView(results_dir / \"flow/0000/000\")"
      ]
    },
    {
      "cell_type": "code",
      "execution_count": 9,
      "metadata": {
        "execution": {
          "iopub.execute_input": "2024-12-08T18:36:19.874824Z",
          "iopub.status.busy": "2024-12-08T18:36:19.874461Z",
          "iopub.status.idle": "2024-12-08T18:36:20.352609Z",
          "shell.execute_reply": "2024-12-08T18:36:20.351410Z"
        },
        "id": "jF65kc5X4k4z",
        "outputId": "1aa7e35a-ac80-4a3b-f9bd-f5ce48622894",
        "colab": {
          "base_uri": "https://localhost:8080/",
          "height": 54,
          "referenced_widgets": [
            "bee23fc1f3934b448da5406c82e9b047",
            "aac46d5dc22f4a2186176bf9b13bd8ce",
            "2c42edc1fb9444c48784b739a220ae3c",
            "ffc775dcbdec41ce8bdc26395defaab5",
            "0fc78e2438e34605974d746409e960b6",
            "ec30c650c778443b99bf3bff7d2de07f",
            "f4e1552ff6e04e84976f45d8e5da49e5",
            "911e2a6eb2654f46a750e3f6f8a3f08f",
            "47003c637ed647e6894324a2667fce69",
            "4824d546a65542bdb7d1dbf7117b5330",
            "277ab6196a3f48e5b9356df121f996ce"
          ]
        }
      },
      "outputs": [
        {
          "output_type": "stream",
          "name": "stderr",
          "text": [
            "WARNING:root:epe not in /content/flyvis/data/results/flow/0000/000/validation, but 'loss' is. Falling back to 'loss'. You can rerun the ensemble validation to make appropriate recordings of the losses.\n"
          ]
        },
        {
          "output_type": "display_data",
          "data": {
            "text/plain": [
              "Batch:   0%|          | 0/6 [00:00<?, ?it/s]"
            ],
            "application/vnd.jupyter.widget-view+json": {
              "version_major": 2,
              "version_minor": 0,
              "model_id": "bee23fc1f3934b448da5406c82e9b047"
            }
          },
          "metadata": {}
        }
      ],
      "source": [
        "stims_and_resps = network_view.moving_edge_responses(dataset)"
      ]
    },
    {
      "cell_type": "markdown",
      "metadata": {
        "id": "TMDaiOxA4Nn_"
      },
      "source": [
        "We've now computed network moving edge responses for all cells in the network."
      ]
    },
    {
      "cell_type": "markdown",
      "metadata": {
        "id": "unO9i3aL5FaS"
      },
      "source": [
        "### Response traces\n",
        "We can plot single-cell response traces with `stims_and_resps['responses'].custom.plot_traces()`. Here, we plot responses of T4c cells to edges with intensity 1 (ON edges)."
      ]
    },
    {
      "cell_type": "code",
      "source": [
        "stims_and_resps['stimulus'].shape"
      ],
      "metadata": {
        "id": "Za05dRT87gXB",
        "outputId": "0abd9fe3-eaed-4a97-c34a-cb7f45999719",
        "colab": {
          "base_uri": "https://localhost:8080/"
        }
      },
      "execution_count": 45,
      "outputs": [
        {
          "output_type": "execute_result",
          "data": {
            "text/plain": [
              "(24, 485, 1, 721)"
            ]
          },
          "metadata": {},
          "execution_count": 45
        }
      ]
    },
    {
      "cell_type": "code",
      "execution_count": 55,
      "metadata": {
        "execution": {
          "iopub.execute_input": "2024-12-08T18:36:20.356983Z",
          "iopub.status.busy": "2024-12-08T18:36:20.356657Z",
          "iopub.status.idle": "2024-12-08T18:36:20.872407Z",
          "shell.execute_reply": "2024-12-08T18:36:20.871498Z"
        },
        "id": "JBHhhtyO4k40",
        "outputId": "f49803dc-1c92-4ff0-e303-3884b0f6dab9",
        "colab": {
          "base_uri": "https://localhost:8080/",
          "height": 928
        }
      },
      "outputs": [
        {
          "output_type": "execute_result",
          "data": {
            "text/plain": [
              "Text(0.5, 1.0, 'T2a responses to moving edge')"
            ]
          },
          "metadata": {},
          "execution_count": 55
        },
        {
          "output_type": "display_data",
          "data": {
            "text/plain": [
              "<Figure size 1920x1440 with 1 Axes>"
            ],
            "image/png": "[encoded data removed]"
          },
          "metadata": {}
        }
      ],
      "source": [
        "cell_type = \"T2a\"\n",
        "stims_and_resps[\"responses\"].custom.where(\n",
        "    cell_type=cell_type, intensity=1, time=\">-0.5,<1.0\"\n",
        ").custom.plot_traces(x=\"time\", legend_labels=[\"angle\"])\n",
        "ax = plt.gca()\n",
        "ax.set_title(f\"{cell_type} responses to moving edge\")"
      ]
    },
    {
      "cell_type": "markdown",
      "metadata": {
        "id": "6FOTQtIR5RMu"
      },
      "source": [
        "### Direction selectivity index (DSI)\n",
        "\n",
        "The **Direction Selectivity Index (DSI)** quantifies a cell's preference for stimuli moving in a particular direction.\n",
        "\n",
        "The DSI is derived from the following steps:\n",
        "1. Obtain the neuron's peak responses to stimuli moving in different directions $\\theta$ and at different speeds $S$.\n",
        "2. Rectify these peak responses to ensure they are non-negative.\n",
        "3. Compute the DSI using the equation:\n",
        "\n",
        "$$\n",
        "DSI_{t_i}(I) = \\frac{1}{\\lvert S \\rvert} \\sum_{S \\in S} \\left\\lvert \\frac{\\sum_{\\theta \\in \\Theta} r^{peak}_{t_{central}}(I, S, \\theta) e^{i\\theta}}{\\max_{I \\in I} \\left\\lvert \\sum_{\\theta \\in \\Theta} r^{peak}_{t_{central}}(I, S, \\theta) \\right\\rvert} \\right\\rvert\n",
        "$$\n",
        "\n",
        "Where:\n",
        "- $DSI_{t_i}(I)$ is the Direction Selectivity Index for cell type $t_i$ at stimulus intensity $I$.\n",
        "- $\\lvert S \\rvert$ is the number of different speeds at which stimuli are moved.\n",
        "- $r^{peak}_{t_{central}}(I, S, \\theta)$ represents the rectified peak response of the central cell in hexagonal space of a cell type, for a given stimulus intensity $I$, speed $S$, and direction $\\theta$.\n",
        "- $\\theta$ is varied across all tested directions $\\Theta$.\n",
        "- $e^{i\\theta}$ introduces the directional component by weighting the response by the complex exponential of the angle of movement.\n",
        "- The denominator normalizes the responses, ensuring that DSI values range from 0 to 1.\n",
        "\n",
        "The DSI values range from 0 to 1. A DSI of 0 indicates no directional preference, while a DSI of 1 indicates a strong preference for a specific direction."
      ]
    },
    {
      "cell_type": "markdown",
      "metadata": {
        "id": "tSuPrIG97qwE"
      },
      "source": [
        "For the T4c cell plotted before, we can see that it preferentially responds to ON edges moving at an angle of 60 degrees, so we expect to see a large DSI.\n",
        "\n",
        " We compute the DSI with `flyvis.analysis.direction_selectivity_index`."
      ]
    },
    {
      "cell_type": "code",
      "execution_count": 29,
      "metadata": {
        "execution": {
          "iopub.execute_input": "2024-12-08T18:36:20.885197Z",
          "iopub.status.busy": "2024-12-08T18:36:20.884705Z",
          "iopub.status.idle": "2024-12-08T18:36:20.891235Z",
          "shell.execute_reply": "2024-12-08T18:36:20.889923Z"
        },
        "id": "ghlO84cB4k42"
      },
      "outputs": [],
      "source": [
        "from flyvis.analysis.moving_bar_responses import direction_selectivity_index"
      ]
    },
    {
      "cell_type": "code",
      "execution_count": 34,
      "metadata": {
        "execution": {
          "iopub.execute_input": "2024-12-08T18:36:20.895414Z",
          "iopub.status.busy": "2024-12-08T18:36:20.895180Z",
          "iopub.status.idle": "2024-12-08T18:36:20.925405Z",
          "shell.execute_reply": "2024-12-08T18:36:20.924405Z"
        },
        "id": "AVkzpLFf4k42",
        "outputId": "117c033a-f4f6-435b-a76a-d77b95df205d",
        "colab": {
          "base_uri": "https://localhost:8080/"
        }
      },
      "outputs": [
        {
          "output_type": "stream",
          "name": "stdout",
          "text": [
            "T2a DSI: 0.07\n"
          ]
        }
      ],
      "source": [
        "# get DSI for T4c cell\n",
        "dsis = direction_selectivity_index(stims_and_resps)\n",
        "print(f\"{cell_type} DSI: {dsis.custom.where(cell_type=cell_type, intensity=1).item():.2f}\")"
      ]
    },
    {
      "cell_type": "markdown",
      "metadata": {
        "id": "iFj4g6gE4k43"
      },
      "source": [
        "We compute the preferred direction of the cell with `flyvis.analysis.preferred_direction` (this is the direction that the tuning lobe points towards). We would expect the preferred direction to be around 60 degrees based on the response traces."
      ]
    },
    {
      "cell_type": "code",
      "execution_count": 13,
      "metadata": {
        "execution": {
          "iopub.execute_input": "2024-12-08T18:36:20.929135Z",
          "iopub.status.busy": "2024-12-08T18:36:20.928929Z",
          "iopub.status.idle": "2024-12-08T18:36:20.933132Z",
          "shell.execute_reply": "2024-12-08T18:36:20.932081Z"
        },
        "id": "SnRkwVHP4k43"
      },
      "outputs": [],
      "source": [
        "from flyvis.analysis.moving_bar_responses import preferred_direction"
      ]
    },
    {
      "cell_type": "code",
      "execution_count": 35,
      "metadata": {
        "execution": {
          "iopub.execute_input": "2024-12-08T18:36:20.936894Z",
          "iopub.status.busy": "2024-12-08T18:36:20.936600Z",
          "iopub.status.idle": "2024-12-08T18:36:20.960998Z",
          "shell.execute_reply": "2024-12-08T18:36:20.960092Z"
        },
        "id": "gdTu-Wvi4k43",
        "outputId": "67edc8fc-ae24-49da-8c7b-4e687c218790",
        "colab": {
          "base_uri": "https://localhost:8080/"
        }
      },
      "outputs": [
        {
          "output_type": "stream",
          "name": "stdout",
          "text": [
            "T2a preferred direction: -168.99 degrees\n"
          ]
        }
      ],
      "source": [
        "pds = preferred_direction(stims_and_resps)\n",
        "print(\n",
        "    f\"{cell_type} preferred direction: {pds.custom.where(cell_type=cell_type, intensity=1).item() / np.pi * 180:.2f} degrees\"\n",
        ")"
      ]
    },
    {
      "cell_type": "markdown",
      "metadata": {
        "id": "6Q7w_WAF4k44"
      },
      "source": [
        "We can also inspect the direction selecity of a cell type visually, by plotting the angular tuning with `plot_angular_tuning`.\n",
        "\n",
        "Here we see clearly how the cell is tuned to stimuli moving at a 60 degree angle."
      ]
    },
    {
      "cell_type": "code",
      "execution_count": 15,
      "metadata": {
        "execution": {
          "iopub.execute_input": "2024-12-08T18:36:20.964663Z",
          "iopub.status.busy": "2024-12-08T18:36:20.964391Z",
          "iopub.status.idle": "2024-12-08T18:36:20.968794Z",
          "shell.execute_reply": "2024-12-08T18:36:20.967835Z"
        },
        "id": "qARmJs0k4k44"
      },
      "outputs": [],
      "source": [
        "from flyvis.analysis.moving_bar_responses import plot_angular_tuning"
      ]
    },
    {
      "cell_type": "code",
      "source": [
        "help(plot_angular_tuning)"
      ],
      "metadata": {
        "id": "YYUVfwZf7y9u",
        "outputId": "1a73e0bc-60db-46f7-dca1-9bd5698077d9",
        "colab": {
          "base_uri": "https://localhost:8080/"
        }
      },
      "execution_count": 46,
      "outputs": [
        {
          "output_type": "stream",
          "name": "stdout",
          "text": [
            "Help on function plot_angular_tuning in module flyvis.analysis.moving_bar_responses:\n",
            "\n",
            "plot_angular_tuning(dataset: 'xr.Dataset', cell_type: 'int', intensity: 'int', figsize: 'Tuple[float, float]' = (1, 1), fontsize: 'int' = 5, linewidth: 'float' = 1, anglepad: 'float' = -7, xlabelpad: 'float' = -1, groundtruth: 'bool' = True, groundtruth_linewidth: 'float' = 1.0, fig: 'plt.Figure' = None, ax: 'plt.Axes' = None, peak_responses_da: 'xr.DataArray' = None, weighted_average: 'xr.DataArray' = None, average_models: 'bool' = False, colors: 'str' = None, zorder: 'Union[int, Iterable]' = 0, **kwargs) -> 'Tuple[plt.Figure, plt.Axes]'\n",
            "    Plot angular tuning for a specific cell type and intensity.\n",
            "    \n",
            "    Args:\n",
            "        dataset: Input dataset.\n",
            "        cell_type: Neuron index to plot.\n",
            "        intensity: Intensity level (0 or 1).\n",
            "        figsize: Figure size.\n",
            "        fontsize: Font size.\n",
            "        linewidth: Line width.\n",
            "        anglepad: Angle padding.\n",
            "        xlabelpad: X-label padding.\n",
            "        groundtruth: Whether to plot ground truth.\n",
            "        groundtruth_linewidth: Line width for ground truth.\n",
            "        fig: Existing figure.\n",
            "        ax: Existing axes.\n",
            "        peak_responses_da: Precomputed peak responses.\n",
            "        weighted_average: Weights for averaging models.\n",
            "        average_models: Whether to average across models.\n",
            "        colors: Color for the plot.\n",
            "        zorder: Z-order for plotting.\n",
            "        **kwargs: Additional keyword arguments for plotting.\n",
            "    \n",
            "    Returns:\n",
            "        The figure and axes objects.\n",
            "\n"
          ]
        }
      ]
    },
    {
      "cell_type": "code",
      "execution_count": 56,
      "metadata": {
        "execution": {
          "iopub.execute_input": "2024-12-08T18:36:20.972466Z",
          "iopub.status.busy": "2024-12-08T18:36:20.972075Z",
          "iopub.status.idle": "2024-12-08T18:36:21.353495Z",
          "shell.execute_reply": "2024-12-08T18:36:21.352386Z"
        },
        "id": "eyePsyy64k44",
        "outputId": "3008b472-98f7-416f-d40f-cb174526ea39",
        "colab": {
          "base_uri": "https://localhost:8080/",
          "height": 367
        }
      },
      "outputs": [
        {
          "output_type": "execute_result",
          "data": {
            "text/plain": [
              "(0.0, 1.0)"
            ]
          },
          "metadata": {},
          "execution_count": 56
        },
        {
          "output_type": "display_data",
          "data": {
            "text/plain": [
              "<Figure size 300x300 with 1 Axes>"
            ],
            "image/png": "[encoded data removed]"
          },
          "metadata": {}
        }
      ],
      "source": [
        "plot_angular_tuning(stims_and_resps, cell_type=cell_type, intensity=1)\n",
        "plt.ylim(0, 1)"
      ]
    },
    {
      "cell_type": "markdown",
      "metadata": {
        "id": "myPGKYPDTmES"
      },
      "source": [
        "### DSI  and tuning curve correlation\n",
        "\n",
        "With the `dsi()` function we can also compute DSIs for every cell type at once. Since the selectivity of some cell types have been determined experimentally, we can then compare our model to experimental findings by computing the correlation between the model DSIs for known cell types with their expected motion selectivity."
      ]
    },
    {
      "cell_type": "code",
      "execution_count": 17,
      "metadata": {
        "execution": {
          "iopub.execute_input": "2024-12-08T18:36:21.359061Z",
          "iopub.status.busy": "2024-12-08T18:36:21.358527Z",
          "iopub.status.idle": "2024-12-08T18:36:21.363550Z",
          "shell.execute_reply": "2024-12-08T18:36:21.362582Z"
        },
        "id": "rwlNfeC_oXu-"
      },
      "outputs": [],
      "source": [
        "from flyvis.analysis.moving_bar_responses import dsi_correlation_to_known"
      ]
    },
    {
      "cell_type": "code",
      "execution_count": 18,
      "metadata": {
        "execution": {
          "iopub.execute_input": "2024-12-08T18:36:21.367313Z",
          "iopub.status.busy": "2024-12-08T18:36:21.367052Z",
          "iopub.status.idle": "2024-12-08T18:36:21.399932Z",
          "shell.execute_reply": "2024-12-08T18:36:21.398983Z"
        },
        "id": "0DNfgV554k45"
      },
      "outputs": [],
      "source": [
        "dsi_corr = dsi_correlation_to_known(direction_selectivity_index(stims_and_resps)).median()"
      ]
    },
    {
      "cell_type": "code",
      "execution_count": 19,
      "metadata": {
        "execution": {
          "iopub.execute_input": "2024-12-08T18:36:21.404905Z",
          "iopub.status.busy": "2024-12-08T18:36:21.404656Z",
          "iopub.status.idle": "2024-12-08T18:36:21.409417Z",
          "shell.execute_reply": "2024-12-08T18:36:21.408492Z"
        },
        "id": "922JGAAh4k46",
        "outputId": "5b1e304c-7536-4dd5-9f58-b995dfbc651d",
        "colab": {
          "base_uri": "https://localhost:8080/"
        }
      },
      "outputs": [
        {
          "output_type": "stream",
          "name": "stdout",
          "text": [
            "DSI correlation =  0.89\n"
          ]
        }
      ],
      "source": [
        "print(f\"DSI correlation = {dsi_corr.item(): .2f}\")"
      ]
    },
    {
      "cell_type": "markdown",
      "metadata": {
        "id": "MO2QKTXj4k46"
      },
      "source": [
        "Further, for certain cell types, their actual tuning curves have also been measured experimentally, so we can correlate our model cell's tuning to the true values. For T4c, the cell is known to tune to stimuli moving at 90 degrees, so the correlation should be relatively high."
      ]
    },
    {
      "cell_type": "code",
      "execution_count": 20,
      "metadata": {
        "execution": {
          "iopub.execute_input": "2024-12-08T18:36:21.413771Z",
          "iopub.status.busy": "2024-12-08T18:36:21.413367Z",
          "iopub.status.idle": "2024-12-08T18:36:21.417898Z",
          "shell.execute_reply": "2024-12-08T18:36:21.416924Z"
        },
        "id": "6EeglznO4k46"
      },
      "outputs": [],
      "source": [
        "from flyvis.analysis.moving_bar_responses import correlation_to_known_tuning_curves"
      ]
    },
    {
      "cell_type": "code",
      "execution_count": 21,
      "metadata": {
        "execution": {
          "iopub.execute_input": "2024-12-08T18:36:21.421632Z",
          "iopub.status.busy": "2024-12-08T18:36:21.421312Z",
          "iopub.status.idle": "2024-12-08T18:36:21.463179Z",
          "shell.execute_reply": "2024-12-08T18:36:21.462466Z"
        },
        "id": "xwGhO09Q4k46"
      },
      "outputs": [],
      "source": [
        "corrs = correlation_to_known_tuning_curves(stims_and_resps)"
      ]
    },
    {
      "cell_type": "code",
      "execution_count": 22,
      "metadata": {
        "execution": {
          "iopub.execute_input": "2024-12-08T18:36:21.467948Z",
          "iopub.status.busy": "2024-12-08T18:36:21.467553Z",
          "iopub.status.idle": "2024-12-08T18:36:21.483849Z",
          "shell.execute_reply": "2024-12-08T18:36:21.482791Z"
        },
        "id": "uun3U38_4k47",
        "outputId": "729ea5d7-abb9-424f-ef7e-f8f21a211ff1",
        "colab": {
          "base_uri": "https://localhost:8080/",
          "height": 322
        }
      },
      "outputs": [
        {
          "output_type": "error",
          "ename": "ValueError",
          "evalue": "can only convert an array of size 1 to a Python scalar",
          "traceback": [
            "\u001b[0;31m---------------------------------------------------------------------------\u001b[0m",
            "\u001b[0;31mValueError\u001b[0m                                Traceback (most recent call last)",
            "\u001b[0;32m<ipython-input-22-2d153463c43b>\u001b[0m in \u001b[0;36m<cell line: 0>\u001b[0;34m()\u001b[0m\n\u001b[1;32m      1\u001b[0m print(\n\u001b[0;32m----> 2\u001b[0;31m     \u001b[0;34mf\"T4c tuning curve correlation = {corrs.custom.where(cell_type=cell_type, intensity=1).squeeze().item():.2f}\"\u001b[0m\u001b[0;34m\u001b[0m\u001b[0;34m\u001b[0m\u001b[0m\n\u001b[0m\u001b[1;32m      3\u001b[0m )\n",
            "\u001b[0;32m/usr/local/lib/python3.11/dist-packages/xarray/core/ops.py\u001b[0m in \u001b[0;36mfunc\u001b[0;34m(self, *args, **kwargs)\u001b[0m\n\u001b[1;32m    203\u001b[0m \u001b[0;32mdef\u001b[0m \u001b[0m_values_method_wrapper\u001b[0m\u001b[0;34m(\u001b[0m\u001b[0mname\u001b[0m\u001b[0;34m)\u001b[0m\u001b[0;34m:\u001b[0m\u001b[0;34m\u001b[0m\u001b[0;34m\u001b[0m\u001b[0m\n\u001b[1;32m    204\u001b[0m     \u001b[0;32mdef\u001b[0m \u001b[0mfunc\u001b[0m\u001b[0;34m(\u001b[0m\u001b[0mself\u001b[0m\u001b[0;34m,\u001b[0m \u001b[0;34m*\u001b[0m\u001b[0margs\u001b[0m\u001b[0;34m,\u001b[0m \u001b[0;34m**\u001b[0m\u001b[0mkwargs\u001b[0m\u001b[0;34m)\u001b[0m\u001b[0;34m:\u001b[0m\u001b[0;34m\u001b[0m\u001b[0;34m\u001b[0m\u001b[0m\n\u001b[0;32m--> 205\u001b[0;31m         \u001b[0;32mreturn\u001b[0m \u001b[0m_call_possibly_missing_method\u001b[0m\u001b[0;34m(\u001b[0m\u001b[0mself\u001b[0m\u001b[0;34m.\u001b[0m\u001b[0mdata\u001b[0m\u001b[0;34m,\u001b[0m \u001b[0mname\u001b[0m\u001b[0;34m,\u001b[0m \u001b[0margs\u001b[0m\u001b[0;34m,\u001b[0m \u001b[0mkwargs\u001b[0m\u001b[0;34m)\u001b[0m\u001b[0;34m\u001b[0m\u001b[0;34m\u001b[0m\u001b[0m\n\u001b[0m\u001b[1;32m    206\u001b[0m \u001b[0;34m\u001b[0m\u001b[0m\n\u001b[1;32m    207\u001b[0m     \u001b[0mfunc\u001b[0m\u001b[0;34m.\u001b[0m\u001b[0m__name__\u001b[0m \u001b[0;34m=\u001b[0m \u001b[0mname\u001b[0m\u001b[0;34m\u001b[0m\u001b[0;34m\u001b[0m\u001b[0m\n",
            "\u001b[0;32m/usr/local/lib/python3.11/dist-packages/xarray/core/ops.py\u001b[0m in \u001b[0;36m_call_possibly_missing_method\u001b[0;34m(arg, name, args, kwargs)\u001b[0m\n\u001b[1;32m    198\u001b[0m         \u001b[0;32mraise\u001b[0m\u001b[0;34m\u001b[0m\u001b[0;34m\u001b[0m\u001b[0m\n\u001b[1;32m    199\u001b[0m     \u001b[0;32melse\u001b[0m\u001b[0;34m:\u001b[0m\u001b[0;34m\u001b[0m\u001b[0;34m\u001b[0m\u001b[0m\n\u001b[0;32m--> 200\u001b[0;31m         \u001b[0;32mreturn\u001b[0m \u001b[0mmethod\u001b[0m\u001b[0;34m(\u001b[0m\u001b[0;34m*\u001b[0m\u001b[0margs\u001b[0m\u001b[0;34m,\u001b[0m \u001b[0;34m**\u001b[0m\u001b[0mkwargs\u001b[0m\u001b[0;34m)\u001b[0m\u001b[0;34m\u001b[0m\u001b[0;34m\u001b[0m\u001b[0m\n\u001b[0m\u001b[1;32m    201\u001b[0m \u001b[0;34m\u001b[0m\u001b[0m\n\u001b[1;32m    202\u001b[0m \u001b[0;34m\u001b[0m\u001b[0m\n",
            "\u001b[0;31mValueError\u001b[0m: can only convert an array of size 1 to a Python scalar"
          ]
        }
      ],
      "source": [
        "print(\n",
        "    f\"T4c tuning curve correlation = {corrs.custom.where(cell_type=cell_type, intensity=1).squeeze().item():.2f}\"\n",
        ")"
      ]
    },
    {
      "cell_type": "markdown",
      "metadata": {
        "id": "JIb2ejrc4k47"
      },
      "source": [
        "In fact, tuning curves for all T4 and T5 cells have been measured, so we can compute the correlation for all 8 cell types."
      ]
    },
    {
      "cell_type": "code",
      "execution_count": 23,
      "metadata": {
        "execution": {
          "iopub.execute_input": "2024-12-08T18:36:21.487764Z",
          "iopub.status.busy": "2024-12-08T18:36:21.487522Z",
          "iopub.status.idle": "2024-12-08T18:36:21.515572Z",
          "shell.execute_reply": "2024-12-08T18:36:21.514567Z"
        },
        "id": "rl6y0o6L4k47"
      },
      "outputs": [],
      "source": [
        "t4_corrs = corrs.custom.where(cell_type=[\"T4a\", \"T4b\", \"T4c\", \"T4d\"], intensity=1)\n",
        "t5_corrs = corrs.custom.where(cell_type=[\"T5a\", \"T5b\", \"T5c\", \"T5d\"], intensity=0)\n",
        "t_corrs = corrs.custom.where(cell_type=[cell_type], intensity=0)"
      ]
    },
    {
      "cell_type": "code",
      "source": [
        "t_corrs"
      ],
      "metadata": {
        "id": "IUdJFQvg6uCB",
        "outputId": "532bf9ca-6db5-4f66-c446-6395355081be",
        "colab": {
          "base_uri": "https://localhost:8080/",
          "height": 390
        }
      },
      "execution_count": 27,
      "outputs": [
        {
          "output_type": "execute_result",
          "data": {
            "text/plain": [
              "<xarray.DataArray (network_id: 1, neuron: 0, intensity: 1)> Size: 0B\n",
              "array([], shape=(1, 0, 1), dtype=float64)\n",
              "Coordinates:\n",
              "  * intensity     (intensity) int64 8B 0\n",
              "    width         (network_id, neuron, intensity) int64 0B \n",
              "    speed         (network_id, neuron, intensity) int64 0B \n",
              "    cell_type     (neuron) <U8 0B \n",
              "    u             (neuron) int32 0B \n",
              "    v             (neuron) int32 0B \n",
              "  * network_id    (network_id) int64 8B 0\n",
              "    network_name  (network_id) <U13 52B 'flow/0000/000'\n",
              "    checkpoints   (network_id) object 8B /content/flyvis/data/results/flow/00...\n",
              "  * neuron        (neuron) int64 0B "
            ],
            "text/html": [
              "<div><svg style=\"position: absolute; width: 0; height: 0; overflow: hidden\">\n",
              "<defs>\n",
              "<symbol id=\"icon-database\" viewBox=\"0 0 32 32\">\n",
              "<path d=\"M16 0c-8.837 0-16 2.239-16 5v4c0 2.761 7.163 5 16 5s16-2.239 16-5v-4c0-2.761-7.163-5-16-5z\"></path>\n",
              "<path d=\"M16 17c-8.837 0-16-2.239-16-5v6c0 2.761 7.163 5 16 5s16-2.239 16-5v-6c0 2.761-7.163 5-16 5z\"></path>\n",
              "<path d=\"M16 26c-8.837 0-16-2.239-16-5v6c0 2.761 7.163 5 16 5s16-2.239 16-5v-6c0 2.761-7.163 5-16 5z\"></path>\n",
              "</symbol>\n",
              "<symbol id=\"icon-file-text2\" viewBox=\"0 0 32 32\">\n",
              "<path d=\"M28.681 7.159c-0.694-0.947-1.662-2.053-2.724-3.116s-2.169-2.030-3.116-2.724c-1.612-1.182-2.393-1.319-2.841-1.319h-15.5c-1.378 0-2.5 1.121-2.5 2.5v27c0 1.378 1.122 2.5 2.5 2.5h23c1.378 0 2.5-1.122 2.5-2.5v-19.5c0-0.448-0.137-1.23-1.319-2.841zM24.543 5.457c0.959 0.959 1.712 1.825 2.268 2.543h-4.811v-4.811c0.718 0.556 1.584 1.309 2.543 2.268zM28 29.5c0 0.271-0.229 0.5-0.5 0.5h-23c-0.271 0-0.5-0.229-0.5-0.5v-27c0-0.271 0.229-0.5 0.5-0.5 0 0 15.499-0 15.5 0v7c0 0.552 0.448 1 1 1h7v19.5z\"></path>\n",
              "<path d=\"M23 26h-14c-0.552 0-1-0.448-1-1s0.448-1 1-1h14c0.552 0 1 0.448 1 1s-0.448 1-1 1z\"></path>\n",
              "<path d=\"M23 22h-14c-0.552 0-1-0.448-1-1s0.448-1 1-1h14c0.552 0 1 0.448 1 1s-0.448 1-1 1z\"></path>\n",
              "<path d=\"M23 18h-14c-0.552 0-1-0.448-1-1s0.448-1 1-1h14c0.552 0 1 0.448 1 1s-0.448 1-1 1z\"></path>\n",
              "</symbol>\n",
              "</defs>\n",
              "</svg>\n",
              "<style>/* CSS stylesheet for displaying xarray objects in jupyterlab.\n",
              " *\n",
              " */\n",
              "\n",
              ":root {\n",
              "  --xr-font-color0: var(--jp-content-font-color0, rgba(0, 0, 0, 1));\n",
              "  --xr-font-color2: var(--jp-content-font-color2, rgba(0, 0, 0, 0.54));\n",
              "  --xr-font-color3: var(--jp-content-font-color3, rgba(0, 0, 0, 0.38));\n",
              "  --xr-border-color: var(--jp-border-color2, #e0e0e0);\n",
              "  --xr-disabled-color: var(--jp-layout-color3, #bdbdbd);\n",
              "  --xr-background-color: var(--jp-layout-color0, white);\n",
              "  --xr-background-color-row-even: var(--jp-layout-color1, white);\n",
              "  --xr-background-color-row-odd: var(--jp-layout-color2, #eeeeee);\n",
              "}\n",
              "\n",
              "html[theme=\"dark\"],\n",
              "html[data-theme=\"dark\"],\n",
              "body[data-theme=\"dark\"],\n",
              "body.vscode-dark {\n",
              "  --xr-font-color0: rgba(255, 255, 255, 1);\n",
              "  --xr-font-color2: rgba(255, 255, 255, 0.54);\n",
              "  --xr-font-color3: rgba(255, 255, 255, 0.38);\n",
              "  --xr-border-color: #1f1f1f;\n",
              "  --xr-disabled-color: #515151;\n",
              "  --xr-background-color: #111111;\n",
              "  --xr-background-color-row-even: #111111;\n",
              "  --xr-background-color-row-odd: #313131;\n",
              "}\n",
              "\n",
              ".xr-wrap {\n",
              "  display: block !important;\n",
              "  min-width: 300px;\n",
              "  max-width: 700px;\n",
              "}\n",
              "\n",
              ".xr-text-repr-fallback {\n",
              "  /* fallback to plain text repr when CSS is not injected (untrusted notebook) */\n",
              "  display: none;\n",
              "}\n",
              "\n",
              ".xr-header {\n",
              "  padding-top: 6px;\n",
              "  padding-bottom: 6px;\n",
              "  margin-bottom: 4px;\n",
              "  border-bottom: solid 1px var(--xr-border-color);\n",
              "}\n",
              "\n",
              ".xr-header > div,\n",
              ".xr-header > ul {\n",
              "  display: inline;\n",
              "  margin-top: 0;\n",
              "  margin-bottom: 0;\n",
              "}\n",
              "\n",
              ".xr-obj-type,\n",
              ".xr-array-name {\n",
              "  margin-left: 2px;\n",
              "  margin-right: 10px;\n",
              "}\n",
              "\n",
              ".xr-obj-type {\n",
              "  color: var(--xr-font-color2);\n",
              "}\n",
              "\n",
              ".xr-sections {\n",
              "  padding-left: 0 !important;\n",
              "  display: grid;\n",
              "  grid-template-columns: 150px auto auto 1fr 0 20px 0 20px;\n",
              "}\n",
              "\n",
              ".xr-section-item {\n",
              "  display: contents;\n",
              "}\n",
              "\n",
              ".xr-section-item input {\n",
              "  display: inline-block;\n",
              "  opacity: 0;\n",
              "  height: 0;\n",
              "}\n",
              "\n",
              ".xr-section-item input + label {\n",
              "  color: var(--xr-disabled-color);\n",
              "}\n",
              "\n",
              ".xr-section-item input:enabled + label {\n",
              "  cursor: pointer;\n",
              "  color: var(--xr-font-color2);\n",
              "}\n",
              "\n",
              ".xr-section-item input:focus + label {\n",
              "  border: 2px solid var(--xr-font-color0);\n",
              "}\n",
              "\n",
              ".xr-section-item input:enabled + label:hover {\n",
              "  color: var(--xr-font-color0);\n",
              "}\n",
              "\n",
              ".xr-section-summary {\n",
              "  grid-column: 1;\n",
              "  color: var(--xr-font-color2);\n",
              "  font-weight: 500;\n",
              "}\n",
              "\n",
              ".xr-section-summary > span {\n",
              "  display: inline-block;\n",
              "  padding-left: 0.5em;\n",
              "}\n",
              "\n",
              ".xr-section-summary-in:disabled + label {\n",
              "  color: var(--xr-font-color2);\n",
              "}\n",
              "\n",
              ".xr-section-summary-in + label:before {\n",
              "  display: inline-block;\n",
              "  content: \"►\";\n",
              "  font-size: 11px;\n",
              "  width: 15px;\n",
              "  text-align: center;\n",
              "}\n",
              "\n",
              ".xr-section-summary-in:disabled + label:before {\n",
              "  color: var(--xr-disabled-color);\n",
              "}\n",
              "\n",
              ".xr-section-summary-in:checked + label:before {\n",
              "  content: \"▼\";\n",
              "}\n",
              "\n",
              ".xr-section-summary-in:checked + label > span {\n",
              "  display: none;\n",
              "}\n",
              "\n",
              ".xr-section-summary,\n",
              ".xr-section-inline-details {\n",
              "  padding-top: 4px;\n",
              "  padding-bottom: 4px;\n",
              "}\n",
              "\n",
              ".xr-section-inline-details {\n",
              "  grid-column: 2 / -1;\n",
              "}\n",
              "\n",
              ".xr-section-details {\n",
              "  display: none;\n",
              "  grid-column: 1 / -1;\n",
              "  margin-bottom: 5px;\n",
              "}\n",
              "\n",
              ".xr-section-summary-in:checked ~ .xr-section-details {\n",
              "  display: contents;\n",
              "}\n",
              "\n",
              ".xr-array-wrap {\n",
              "  grid-column: 1 / -1;\n",
              "  display: grid;\n",
              "  grid-template-columns: 20px auto;\n",
              "}\n",
              "\n",
              ".xr-array-wrap > label {\n",
              "  grid-column: 1;\n",
              "  vertical-align: top;\n",
              "}\n",
              "\n",
              ".xr-preview {\n",
              "  color: var(--xr-font-color3);\n",
              "}\n",
              "\n",
              ".xr-array-preview,\n",
              ".xr-array-data {\n",
              "  padding: 0 5px !important;\n",
              "  grid-column: 2;\n",
              "}\n",
              "\n",
              ".xr-array-data,\n",
              ".xr-array-in:checked ~ .xr-array-preview {\n",
              "  display: none;\n",
              "}\n",
              "\n",
              ".xr-array-in:checked ~ .xr-array-data,\n",
              ".xr-array-preview {\n",
              "  display: inline-block;\n",
              "}\n",
              "\n",
              ".xr-dim-list {\n",
              "  display: inline-block !important;\n",
              "  list-style: none;\n",
              "  padding: 0 !important;\n",
              "  margin: 0;\n",
              "}\n",
              "\n",
              ".xr-dim-list li {\n",
              "  display: inline-block;\n",
              "  padding: 0;\n",
              "  margin: 0;\n",
              "}\n",
              "\n",
              ".xr-dim-list:before {\n",
              "  content: \"(\";\n",
              "}\n",
              "\n",
              ".xr-dim-list:after {\n",
              "  content: \")\";\n",
              "}\n",
              "\n",
              ".xr-dim-list li:not(:last-child):after {\n",
              "  content: \",\";\n",
              "  padding-right: 5px;\n",
              "}\n",
              "\n",
              ".xr-has-index {\n",
              "  font-weight: bold;\n",
              "}\n",
              "\n",
              ".xr-var-list,\n",
              ".xr-var-item {\n",
              "  display: contents;\n",
              "}\n",
              "\n",
              ".xr-var-item > div,\n",
              ".xr-var-item label,\n",
              ".xr-var-item > .xr-var-name span {\n",
              "  background-color: var(--xr-background-color-row-even);\n",
              "  margin-bottom: 0;\n",
              "}\n",
              "\n",
              ".xr-var-item > .xr-var-name:hover span {\n",
              "  padding-right: 5px;\n",
              "}\n",
              "\n",
              ".xr-var-list > li:nth-child(odd) > div,\n",
              ".xr-var-list > li:nth-child(odd) > label,\n",
              ".xr-var-list > li:nth-child(odd) > .xr-var-name span {\n",
              "  background-color: var(--xr-background-color-row-odd);\n",
              "}\n",
              "\n",
              ".xr-var-name {\n",
              "  grid-column: 1;\n",
              "}\n",
              "\n",
              ".xr-var-dims {\n",
              "  grid-column: 2;\n",
              "}\n",
              "\n",
              ".xr-var-dtype {\n",
              "  grid-column: 3;\n",
              "  text-align: right;\n",
              "  color: var(--xr-font-color2);\n",
              "}\n",
              "\n",
              ".xr-var-preview {\n",
              "  grid-column: 4;\n",
              "}\n",
              "\n",
              ".xr-index-preview {\n",
              "  grid-column: 2 / 5;\n",
              "  color: var(--xr-font-color2);\n",
              "}\n",
              "\n",
              ".xr-var-name,\n",
              ".xr-var-dims,\n",
              ".xr-var-dtype,\n",
              ".xr-preview,\n",
              ".xr-attrs dt {\n",
              "  white-space: nowrap;\n",
              "  overflow: hidden;\n",
              "  text-overflow: ellipsis;\n",
              "  padding-right: 10px;\n",
              "}\n",
              "\n",
              ".xr-var-name:hover,\n",
              ".xr-var-dims:hover,\n",
              ".xr-var-dtype:hover,\n",
              ".xr-attrs dt:hover {\n",
              "  overflow: visible;\n",
              "  width: auto;\n",
              "  z-index: 1;\n",
              "}\n",
              "\n",
              ".xr-var-attrs,\n",
              ".xr-var-data,\n",
              ".xr-index-data {\n",
              "  display: none;\n",
              "  background-color: var(--xr-background-color) !important;\n",
              "  padding-bottom: 5px !important;\n",
              "}\n",
              "\n",
              ".xr-var-attrs-in:checked ~ .xr-var-attrs,\n",
              ".xr-var-data-in:checked ~ .xr-var-data,\n",
              ".xr-index-data-in:checked ~ .xr-index-data {\n",
              "  display: block;\n",
              "}\n",
              "\n",
              ".xr-var-data > table {\n",
              "  float: right;\n",
              "}\n",
              "\n",
              ".xr-var-name span,\n",
              ".xr-var-data,\n",
              ".xr-index-name div,\n",
              ".xr-index-data,\n",
              ".xr-attrs {\n",
              "  padding-left: 25px !important;\n",
              "}\n",
              "\n",
              ".xr-attrs,\n",
              ".xr-var-attrs,\n",
              ".xr-var-data,\n",
              ".xr-index-data {\n",
              "  grid-column: 1 / -1;\n",
              "}\n",
              "\n",
              "dl.xr-attrs {\n",
              "  padding: 0;\n",
              "  margin: 0;\n",
              "  display: grid;\n",
              "  grid-template-columns: 125px auto;\n",
              "}\n",
              "\n",
              ".xr-attrs dt,\n",
              ".xr-attrs dd {\n",
              "  padding: 0;\n",
              "  margin: 0;\n",
              "  float: left;\n",
              "  padding-right: 10px;\n",
              "  width: auto;\n",
              "}\n",
              "\n",
              ".xr-attrs dt {\n",
              "  font-weight: normal;\n",
              "  grid-column: 1;\n",
              "}\n",
              "\n",
              ".xr-attrs dt:hover span {\n",
              "  display: inline-block;\n",
              "  background: var(--xr-background-color);\n",
              "  padding-right: 10px;\n",
              "}\n",
              "\n",
              ".xr-attrs dd {\n",
              "  grid-column: 2;\n",
              "  white-space: pre-wrap;\n",
              "  word-break: break-all;\n",
              "}\n",
              "\n",
              ".xr-icon-database,\n",
              ".xr-icon-file-text2,\n",
              ".xr-no-icon {\n",
              "  display: inline-block;\n",
              "  vertical-align: middle;\n",
              "  width: 1em;\n",
              "  height: 1.5em !important;\n",
              "  stroke-width: 0;\n",
              "  stroke: currentColor;\n",
              "  fill: currentColor;\n",
              "}\n",
              "</style><pre class='xr-text-repr-fallback'>&lt;xarray.DataArray (network_id: 1, neuron: 0, intensity: 1)&gt; Size: 0B\n",
              "array([], shape=(1, 0, 1), dtype=float64)\n",
              "Coordinates:\n",
              "  * intensity     (intensity) int64 8B 0\n",
              "    width         (network_id, neuron, intensity) int64 0B \n",
              "    speed         (network_id, neuron, intensity) int64 0B \n",
              "    cell_type     (neuron) &lt;U8 0B \n",
              "    u             (neuron) int32 0B \n",
              "    v             (neuron) int32 0B \n",
              "  * network_id    (network_id) int64 8B 0\n",
              "    network_name  (network_id) &lt;U13 52B &#x27;flow/0000/000&#x27;\n",
              "    checkpoints   (network_id) object 8B /content/flyvis/data/results/flow/00...\n",
              "  * neuron        (neuron) int64 0B </pre><div class='xr-wrap' style='display:none'><div class='xr-header'><div class='xr-obj-type'>xarray.DataArray</div><div class='xr-array-name'></div><ul class='xr-dim-list'><li><span class='xr-has-index'>network_id</span>: 1</li><li><span class='xr-has-index'>neuron</span>: 0</li><li><span class='xr-has-index'>intensity</span>: 1</li></ul></div><ul class='xr-sections'><li class='xr-section-item'><div class='xr-array-wrap'><input id='section-0f3ed07a-05b3-42c9-929d-e73a62ddbd23' class='xr-array-in' type='checkbox' checked><label for='section-0f3ed07a-05b3-42c9-929d-e73a62ddbd23' title='Show/hide data repr'><svg class='icon xr-icon-database'><use xlink:href='#icon-database'></use></svg></label><div class='xr-array-preview xr-preview'><span></span></div><div class='xr-array-data'><pre>array([], shape=(1, 0, 1), dtype=float64)</pre></div></div></li><li class='xr-section-item'><input id='section-4b5f0ee2-134b-4a37-a421-4cb25fac0c94' class='xr-section-summary-in' type='checkbox'  checked><label for='section-4b5f0ee2-134b-4a37-a421-4cb25fac0c94' class='xr-section-summary' >Coordinates: <span>(10)</span></label><div class='xr-section-inline-details'></div><div class='xr-section-details'><ul class='xr-var-list'><li class='xr-var-item'><div class='xr-var-name'><span class='xr-has-index'>intensity</span></div><div class='xr-var-dims'>(intensity)</div><div class='xr-var-dtype'>int64</div><div class='xr-var-preview xr-preview'>0</div><input id='attrs-7c1591ac-67a4-459d-b84c-d8234e546c3a' class='xr-var-attrs-in' type='checkbox' disabled><label for='attrs-7c1591ac-67a4-459d-b84c-d8234e546c3a' title='Show/Hide attributes'><svg class='icon xr-icon-file-text2'><use xlink:href='#icon-file-text2'></use></svg></label><input id='data-3bcdefce-4953-4a52-8d71-79b1ca974e46' class='xr-var-data-in' type='checkbox'><label for='data-3bcdefce-4953-4a52-8d71-79b1ca974e46' title='Show/Hide data repr'><svg class='icon xr-icon-database'><use xlink:href='#icon-database'></use></svg></label><div class='xr-var-attrs'><dl class='xr-attrs'></dl></div><div class='xr-var-data'><pre>array([0])</pre></div></li><li class='xr-var-item'><div class='xr-var-name'><span>width</span></div><div class='xr-var-dims'>(network_id, neuron, intensity)</div><div class='xr-var-dtype'>int64</div><div class='xr-var-preview xr-preview'></div><input id='attrs-e5e37127-f7af-48fe-98d5-5869dc0633e8' class='xr-var-attrs-in' type='checkbox' disabled><label for='attrs-e5e37127-f7af-48fe-98d5-5869dc0633e8' title='Show/Hide attributes'><svg class='icon xr-icon-file-text2'><use xlink:href='#icon-file-text2'></use></svg></label><input id='data-1b8598b7-0d43-4681-ac42-6efb3fc32d4f' class='xr-var-data-in' type='checkbox'><label for='data-1b8598b7-0d43-4681-ac42-6efb3fc32d4f' title='Show/Hide data repr'><svg class='icon xr-icon-database'><use xlink:href='#icon-database'></use></svg></label><div class='xr-var-attrs'><dl class='xr-attrs'></dl></div><div class='xr-var-data'><pre>array([], shape=(1, 0, 1), dtype=int64)</pre></div></li><li class='xr-var-item'><div class='xr-var-name'><span>speed</span></div><div class='xr-var-dims'>(network_id, neuron, intensity)</div><div class='xr-var-dtype'>int64</div><div class='xr-var-preview xr-preview'></div><input id='attrs-87362f0c-ea1f-41ef-92ad-f04dce57d505' class='xr-var-attrs-in' type='checkbox' disabled><label for='attrs-87362f0c-ea1f-41ef-92ad-f04dce57d505' title='Show/Hide attributes'><svg class='icon xr-icon-file-text2'><use xlink:href='#icon-file-text2'></use></svg></label><input id='data-75dd1ae5-e810-4c14-9fdd-95e5e37ea29a' class='xr-var-data-in' type='checkbox'><label for='data-75dd1ae5-e810-4c14-9fdd-95e5e37ea29a' title='Show/Hide data repr'><svg class='icon xr-icon-database'><use xlink:href='#icon-database'></use></svg></label><div class='xr-var-attrs'><dl class='xr-attrs'></dl></div><div class='xr-var-data'><pre>array([], shape=(1, 0, 1), dtype=int64)</pre></div></li><li class='xr-var-item'><div class='xr-var-name'><span>cell_type</span></div><div class='xr-var-dims'>(neuron)</div><div class='xr-var-dtype'>&lt;U8</div><div class='xr-var-preview xr-preview'></div><input id='attrs-69746ab3-0a0e-4591-85e8-846810482aed' class='xr-var-attrs-in' type='checkbox' disabled><label for='attrs-69746ab3-0a0e-4591-85e8-846810482aed' title='Show/Hide attributes'><svg class='icon xr-icon-file-text2'><use xlink:href='#icon-file-text2'></use></svg></label><input id='data-90384f00-e4af-4a21-8603-c598132a9a4b' class='xr-var-data-in' type='checkbox'><label for='data-90384f00-e4af-4a21-8603-c598132a9a4b' title='Show/Hide data repr'><svg class='icon xr-icon-database'><use xlink:href='#icon-database'></use></svg></label><div class='xr-var-attrs'><dl class='xr-attrs'></dl></div><div class='xr-var-data'><pre>array([], dtype=&#x27;&lt;U8&#x27;)</pre></div></li><li class='xr-var-item'><div class='xr-var-name'><span>u</span></div><div class='xr-var-dims'>(neuron)</div><div class='xr-var-dtype'>int32</div><div class='xr-var-preview xr-preview'></div><input id='attrs-30b1d20c-999e-4367-a75b-0c169d2ce12e' class='xr-var-attrs-in' type='checkbox' disabled><label for='attrs-30b1d20c-999e-4367-a75b-0c169d2ce12e' title='Show/Hide attributes'><svg class='icon xr-icon-file-text2'><use xlink:href='#icon-file-text2'></use></svg></label><input id='data-ea203004-9e53-40b7-a9ce-c8cd3c306bd8' class='xr-var-data-in' type='checkbox'><label for='data-ea203004-9e53-40b7-a9ce-c8cd3c306bd8' title='Show/Hide data repr'><svg class='icon xr-icon-database'><use xlink:href='#icon-database'></use></svg></label><div class='xr-var-attrs'><dl class='xr-attrs'></dl></div><div class='xr-var-data'><pre>array([], dtype=int32)</pre></div></li><li class='xr-var-item'><div class='xr-var-name'><span>v</span></div><div class='xr-var-dims'>(neuron)</div><div class='xr-var-dtype'>int32</div><div class='xr-var-preview xr-preview'></div><input id='attrs-d4ac89df-9b0a-437f-8851-b248462e6a71' class='xr-var-attrs-in' type='checkbox' disabled><label for='attrs-d4ac89df-9b0a-437f-8851-b248462e6a71' title='Show/Hide attributes'><svg class='icon xr-icon-file-text2'><use xlink:href='#icon-file-text2'></use></svg></label><input id='data-88299a54-8bdb-4126-be93-6c1b4c29a971' class='xr-var-data-in' type='checkbox'><label for='data-88299a54-8bdb-4126-be93-6c1b4c29a971' title='Show/Hide data repr'><svg class='icon xr-icon-database'><use xlink:href='#icon-database'></use></svg></label><div class='xr-var-attrs'><dl class='xr-attrs'></dl></div><div class='xr-var-data'><pre>array([], dtype=int32)</pre></div></li><li class='xr-var-item'><div class='xr-var-name'><span class='xr-has-index'>network_id</span></div><div class='xr-var-dims'>(network_id)</div><div class='xr-var-dtype'>int64</div><div class='xr-var-preview xr-preview'>0</div><input id='attrs-920e23a7-d42a-49b9-aa13-2327d8621a40' class='xr-var-attrs-in' type='checkbox' disabled><label for='attrs-920e23a7-d42a-49b9-aa13-2327d8621a40' title='Show/Hide attributes'><svg class='icon xr-icon-file-text2'><use xlink:href='#icon-file-text2'></use></svg></label><input id='data-5972858d-4611-453e-ade1-01b77a4f30d1' class='xr-var-data-in' type='checkbox'><label for='data-5972858d-4611-453e-ade1-01b77a4f30d1' title='Show/Hide data repr'><svg class='icon xr-icon-database'><use xlink:href='#icon-database'></use></svg></label><div class='xr-var-attrs'><dl class='xr-attrs'></dl></div><div class='xr-var-data'><pre>array([0])</pre></div></li><li class='xr-var-item'><div class='xr-var-name'><span>network_name</span></div><div class='xr-var-dims'>(network_id)</div><div class='xr-var-dtype'>&lt;U13</div><div class='xr-var-preview xr-preview'>&#x27;flow/0000/000&#x27;</div><input id='attrs-3efca770-d32c-40c6-b070-2fc20b8df631' class='xr-var-attrs-in' type='checkbox' disabled><label for='attrs-3efca770-d32c-40c6-b070-2fc20b8df631' title='Show/Hide attributes'><svg class='icon xr-icon-file-text2'><use xlink:href='#icon-file-text2'></use></svg></label><input id='data-00fec2b4-9223-4393-817d-fbdc926ccd89' class='xr-var-data-in' type='checkbox'><label for='data-00fec2b4-9223-4393-817d-fbdc926ccd89' title='Show/Hide data repr'><svg class='icon xr-icon-database'><use xlink:href='#icon-database'></use></svg></label><div class='xr-var-attrs'><dl class='xr-attrs'></dl></div><div class='xr-var-data'><pre>array([&#x27;flow/0000/000&#x27;], dtype=&#x27;&lt;U13&#x27;)</pre></div></li><li class='xr-var-item'><div class='xr-var-name'><span>checkpoints</span></div><div class='xr-var-dims'>(network_id)</div><div class='xr-var-dtype'>object</div><div class='xr-var-preview xr-preview'>/content/flyvis/data/results/flo...</div><input id='attrs-1f51ccea-58b8-452c-ba41-e24d2bfa54cd' class='xr-var-attrs-in' type='checkbox' disabled><label for='attrs-1f51ccea-58b8-452c-ba41-e24d2bfa54cd' title='Show/Hide attributes'><svg class='icon xr-icon-file-text2'><use xlink:href='#icon-file-text2'></use></svg></label><input id='data-c49e96a9-fdc3-4854-9b6f-abfcdaaa55db' class='xr-var-data-in' type='checkbox'><label for='data-c49e96a9-fdc3-4854-9b6f-abfcdaaa55db' title='Show/Hide data repr'><svg class='icon xr-icon-database'><use xlink:href='#icon-database'></use></svg></label><div class='xr-var-attrs'><dl class='xr-attrs'></dl></div><div class='xr-var-data'><pre>array([PosixPath(&#x27;/content/flyvis/data/results/flow/0000/000/chkpts/chkpt_00000&#x27;)],\n",
              "      dtype=object)</pre></div></li><li class='xr-var-item'><div class='xr-var-name'><span class='xr-has-index'>neuron</span></div><div class='xr-var-dims'>(neuron)</div><div class='xr-var-dtype'>int64</div><div class='xr-var-preview xr-preview'></div><input id='attrs-15c0f667-9e7a-46f3-89ce-8e38d5de47d6' class='xr-var-attrs-in' type='checkbox' disabled><label for='attrs-15c0f667-9e7a-46f3-89ce-8e38d5de47d6' title='Show/Hide attributes'><svg class='icon xr-icon-file-text2'><use xlink:href='#icon-file-text2'></use></svg></label><input id='data-22c35c98-c66b-4fb8-90e3-eec60c8e1e7e' class='xr-var-data-in' type='checkbox'><label for='data-22c35c98-c66b-4fb8-90e3-eec60c8e1e7e' title='Show/Hide data repr'><svg class='icon xr-icon-database'><use xlink:href='#icon-database'></use></svg></label><div class='xr-var-attrs'><dl class='xr-attrs'></dl></div><div class='xr-var-data'><pre>array([], dtype=int64)</pre></div></li></ul></div></li><li class='xr-section-item'><input id='section-ffa0a649-67d3-4779-a9de-67a5c3b96ecb' class='xr-section-summary-in' type='checkbox'  ><label for='section-ffa0a649-67d3-4779-a9de-67a5c3b96ecb' class='xr-section-summary' >Indexes: <span>(3)</span></label><div class='xr-section-inline-details'></div><div class='xr-section-details'><ul class='xr-var-list'><li class='xr-var-item'><div class='xr-index-name'><div>intensity</div></div><div class='xr-index-preview'>PandasIndex</div><input type='checkbox' disabled/><label></label><input id='index-3189a6b4-da8a-43b8-81ba-e4e001e170e1' class='xr-index-data-in' type='checkbox'/><label for='index-3189a6b4-da8a-43b8-81ba-e4e001e170e1' title='Show/Hide index repr'><svg class='icon xr-icon-database'><use xlink:href='#icon-database'></use></svg></label><div class='xr-index-data'><pre>PandasIndex(Index([0], dtype=&#x27;int64&#x27;, name=&#x27;intensity&#x27;))</pre></div></li><li class='xr-var-item'><div class='xr-index-name'><div>network_id</div></div><div class='xr-index-preview'>PandasIndex</div><input type='checkbox' disabled/><label></label><input id='index-68ed13a8-4031-4031-b7d6-87272c6194b7' class='xr-index-data-in' type='checkbox'/><label for='index-68ed13a8-4031-4031-b7d6-87272c6194b7' title='Show/Hide index repr'><svg class='icon xr-icon-database'><use xlink:href='#icon-database'></use></svg></label><div class='xr-index-data'><pre>PandasIndex(Index([0], dtype=&#x27;int64&#x27;, name=&#x27;network_id&#x27;))</pre></div></li><li class='xr-var-item'><div class='xr-index-name'><div>neuron</div></div><div class='xr-index-preview'>PandasIndex</div><input type='checkbox' disabled/><label></label><input id='index-ae6f809e-e0cc-4eb9-aa66-cc91d629810e' class='xr-index-data-in' type='checkbox'/><label for='index-ae6f809e-e0cc-4eb9-aa66-cc91d629810e' title='Show/Hide index repr'><svg class='icon xr-icon-database'><use xlink:href='#icon-database'></use></svg></label><div class='xr-index-data'><pre>PandasIndex(Index([], dtype=&#x27;int64&#x27;, name=&#x27;neuron&#x27;))</pre></div></li></ul></div></li><li class='xr-section-item'><input id='section-47dc2ce9-d1cf-44a1-a3a9-362ae3b9ce26' class='xr-section-summary-in' type='checkbox' disabled ><label for='section-47dc2ce9-d1cf-44a1-a3a9-362ae3b9ce26' class='xr-section-summary'  title='Expand/collapse section'>Attributes: <span>(0)</span></label><div class='xr-section-inline-details'></div><div class='xr-section-details'><dl class='xr-attrs'></dl></div></li></ul></div></div>"
            ]
          },
          "metadata": {},
          "execution_count": 27
        }
      ]
    },
    {
      "cell_type": "code",
      "execution_count": null,
      "metadata": {
        "execution": {
          "iopub.execute_input": "2024-12-08T18:36:21.520076Z",
          "iopub.status.busy": "2024-12-08T18:36:21.519870Z",
          "iopub.status.idle": "2024-12-08T18:36:21.525118Z",
          "shell.execute_reply": "2024-12-08T18:36:21.524194Z"
        },
        "id": "MCSk1bbg4k48"
      },
      "outputs": [],
      "source": [
        "print(\n",
        "    f\"T4 tuning curve correlations: {t4_corrs.cell_type.values}\\n{t4_corrs.squeeze().values}\"\n",
        ")"
      ]
    },
    {
      "cell_type": "code",
      "execution_count": null,
      "metadata": {
        "execution": {
          "iopub.execute_input": "2024-12-08T18:36:21.528735Z",
          "iopub.status.busy": "2024-12-08T18:36:21.528357Z",
          "iopub.status.idle": "2024-12-08T18:36:21.534285Z",
          "shell.execute_reply": "2024-12-08T18:36:21.533326Z"
        },
        "id": "ryOjAQv-4k48"
      },
      "outputs": [],
      "source": [
        "print(\n",
        "    f\"T5 tuning curve correlations: {t5_corrs.cell_type.values}\\n{t5_corrs.squeeze().values}\"\n",
        ")"
      ]
    },
    {
      "cell_type": "markdown",
      "metadata": {
        "id": "oc0fUTl04k48"
      },
      "source": [
        "So, the model yields accurate predictions for all T4 and T5 cell types."
      ]
    },
    {
      "cell_type": "markdown",
      "metadata": {
        "id": "XrG_yZ6IaVdD"
      },
      "source": [
        "## Ensemble responses\n",
        "\n",
        "Now we can compare motion selectivity properties across an ensemble of trained models. First we need to again simulate the network responses."
      ]
    },
    {
      "cell_type": "code",
      "execution_count": null,
      "metadata": {
        "execution": {
          "iopub.execute_input": "2024-12-08T18:36:21.538318Z",
          "iopub.status.busy": "2024-12-08T18:36:21.537939Z",
          "iopub.status.idle": "2024-12-08T18:36:37.195354Z",
          "shell.execute_reply": "2024-12-08T18:36:37.193777Z"
        },
        "id": "HAci8A5MYu9d"
      },
      "outputs": [],
      "source": [
        "from flyvis import EnsembleView\n",
        "\n",
        "ensemble = EnsembleView(results_dir / \"flow/0000\")\n",
        "# choose best 10\n",
        "ensemble = ensemble[ensemble.argsort()[:10]]"
      ]
    },
    {
      "cell_type": "code",
      "execution_count": null,
      "metadata": {
        "execution": {
          "iopub.execute_input": "2024-12-08T18:36:37.201209Z",
          "iopub.status.busy": "2024-12-08T18:36:37.200821Z",
          "iopub.status.idle": "2024-12-08T18:36:40.100151Z",
          "shell.execute_reply": "2024-12-08T18:36:40.098069Z"
        },
        "id": "VTZmQLpi4k49"
      },
      "outputs": [],
      "source": [
        "%%capture\n",
        "stims_and_resps = ensemble.moving_edge_responses(dataset=dataset)"
      ]
    },
    {
      "cell_type": "markdown",
      "metadata": {
        "id": "e342YYovvEPw"
      },
      "source": [
        "### Response traces\n",
        "\n",
        "We can once again plot response traces for a single cell type.\n",
        "\n",
        "We subtract the initial value of each trace and divide by the max as the network neuron activities are in arbitrary units.\n",
        "\n",
        "We plot only T4c responses to ON edges moving at a 90-degree angle."
      ]
    },
    {
      "cell_type": "code",
      "execution_count": null,
      "metadata": {
        "execution": {
          "iopub.execute_input": "2024-12-08T18:36:40.106141Z",
          "iopub.status.busy": "2024-12-08T18:36:40.105797Z",
          "iopub.status.idle": "2024-12-08T18:36:40.138991Z",
          "shell.execute_reply": "2024-12-08T18:36:40.137739Z"
        },
        "id": "lFMGxMvT4k4-"
      },
      "outputs": [],
      "source": [
        "responses = (\n",
        "    stims_and_resps[\"responses\"]\n",
        "    - stims_and_resps[\"responses\"].custom.where(time=0).values\n",
        ")"
      ]
    },
    {
      "cell_type": "code",
      "execution_count": null,
      "metadata": {
        "execution": {
          "iopub.execute_input": "2024-12-08T18:36:40.143199Z",
          "iopub.status.busy": "2024-12-08T18:36:40.142884Z",
          "iopub.status.idle": "2024-12-08T18:36:40.200682Z",
          "shell.execute_reply": "2024-12-08T18:36:40.199375Z"
        },
        "id": "y5E4qUww4k4-"
      },
      "outputs": [],
      "source": [
        "responses = responses / np.abs(responses).max((\"sample\", \"frame\"))"
      ]
    },
    {
      "cell_type": "code",
      "execution_count": null,
      "metadata": {
        "execution": {
          "iopub.execute_input": "2024-12-08T18:36:40.204813Z",
          "iopub.status.busy": "2024-12-08T18:36:40.204493Z",
          "iopub.status.idle": "2024-12-08T18:36:40.638228Z",
          "shell.execute_reply": "2024-12-08T18:36:40.637009Z"
        },
        "id": "jAauxP6d4k4-"
      },
      "outputs": [],
      "source": [
        "responses.custom.where(\n",
        "    cell_type=\"T4c\",\n",
        "    intensity=1,\n",
        "    time=\">-0.5,<1.0\",\n",
        "    angle=90,\n",
        ").custom.plot_traces(\n",
        "    x=\"time\", plot_kwargs=dict(color=\"tab:blue\"), legend_labels=[\"network_id\"]\n",
        ")"
      ]
    },
    {
      "cell_type": "markdown",
      "metadata": {
        "id": "_O9bDAuGv8xC"
      },
      "source": [
        "Though for most networks T4c responses are correctly predicted to the stimuli, there are some networks in the ensemble with different responses."
      ]
    },
    {
      "cell_type": "markdown",
      "metadata": {
        "id": "YYgWkeNbwDbJ"
      },
      "source": [
        "### Direction selectivity index (DSI)\n",
        "\n",
        "We can also compute direction selectivity indices for each network in the ensemble."
      ]
    },
    {
      "cell_type": "code",
      "execution_count": null,
      "metadata": {
        "execution": {
          "iopub.execute_input": "2024-12-08T18:36:40.648673Z",
          "iopub.status.busy": "2024-12-08T18:36:40.648373Z",
          "iopub.status.idle": "2024-12-08T18:36:40.707852Z",
          "shell.execute_reply": "2024-12-08T18:36:40.706419Z"
        },
        "id": "474w8x-J4k4_"
      },
      "outputs": [],
      "source": [
        "dsis = direction_selectivity_index(stims_and_resps)"
      ]
    },
    {
      "cell_type": "code",
      "execution_count": null,
      "metadata": {
        "execution": {
          "iopub.execute_input": "2024-12-08T18:36:40.711032Z",
          "iopub.status.busy": "2024-12-08T18:36:40.710814Z",
          "iopub.status.idle": "2024-12-08T18:36:41.012611Z",
          "shell.execute_reply": "2024-12-08T18:36:41.011596Z"
        },
        "id": "sT9R-pNR4k5A"
      },
      "outputs": [],
      "source": [
        "dsis.custom.where(cell_type=\"T4c\", intensity=1).plot.hist()\n",
        "ax = plt.gca()\n",
        "ax.set_title(\"T4c DSI distribution\")\n",
        "ax.set_ylabel(\"Number of networks\")"
      ]
    },
    {
      "cell_type": "markdown",
      "metadata": {
        "id": "lbKyqrQewUNf"
      },
      "source": [
        "Most networks in this group recover some direction selectivity for T4c. We can also plot the distribution of DSIs per cell type for both ON and OFF-edge stimuli across the ensemble."
      ]
    },
    {
      "cell_type": "code",
      "execution_count": null,
      "metadata": {
        "execution": {
          "iopub.execute_input": "2024-12-08T18:36:41.018977Z",
          "iopub.status.busy": "2024-12-08T18:36:41.018564Z",
          "iopub.status.idle": "2024-12-08T18:36:43.001838Z",
          "shell.execute_reply": "2024-12-08T18:36:43.000608Z"
        },
        "id": "aqxdwgnswsUf"
      },
      "outputs": [],
      "source": [
        "from flyvis.analysis.moving_bar_responses import dsi_violins_on_and_off\n",
        "\n",
        "fig, ax = dsi_violins_on_and_off(\n",
        "    dsis,\n",
        "    dsis.cell_type,\n",
        "    bold_output_type_labels=True,\n",
        "    output_cell_types=ensemble[ensemble.names[0]]\n",
        "    .connectome.output_cell_types[:]\n",
        "    .astype(str),\n",
        "    figsize=[10, 1.2],\n",
        "    color_known_types=True,\n",
        "    fontsize=6,\n",
        "    scatter_best_index=0,\n",
        "    scatter_best_color=plt.get_cmap(\"Blues\")(1.0),\n",
        ")"
      ]
    },
    {
      "cell_type": "markdown",
      "metadata": {
        "id": "KhJO6lMvX3fo"
      },
      "source": [
        "### DSI correlation\n",
        "\n",
        "Lastly, we look at the correlations to ground-truth DSIs and tuning curves across the ensemble. This provides us with a high-level understanding of the accuracy of known motion tuning predictions."
      ]
    },
    {
      "cell_type": "code",
      "execution_count": null,
      "metadata": {
        "execution": {
          "iopub.execute_input": "2024-12-08T18:36:43.017131Z",
          "iopub.status.busy": "2024-12-08T18:36:43.016625Z",
          "iopub.status.idle": "2024-12-08T18:36:43.087687Z",
          "shell.execute_reply": "2024-12-08T18:36:43.086353Z"
        },
        "id": "aa9eiadf4k5B"
      },
      "outputs": [],
      "source": [
        "dsi_corr = dsi_correlation_to_known(direction_selectivity_index(stims_and_resps))"
      ]
    },
    {
      "cell_type": "code",
      "execution_count": null,
      "metadata": {
        "execution": {
          "iopub.execute_input": "2024-12-08T18:36:43.092286Z",
          "iopub.status.busy": "2024-12-08T18:36:43.092082Z",
          "iopub.status.idle": "2024-12-08T18:36:43.174801Z",
          "shell.execute_reply": "2024-12-08T18:36:43.173775Z"
        },
        "id": "kGehU8h34k5B"
      },
      "outputs": [],
      "source": [
        "tuning_corrs = correlation_to_known_tuning_curves(stims_and_resps)"
      ]
    },
    {
      "cell_type": "code",
      "execution_count": null,
      "metadata": {
        "execution": {
          "iopub.execute_input": "2024-12-08T18:36:43.179435Z",
          "iopub.status.busy": "2024-12-08T18:36:43.179213Z",
          "iopub.status.idle": "2024-12-08T18:36:43.209067Z",
          "shell.execute_reply": "2024-12-08T18:36:43.208140Z"
        },
        "id": "1quBE_V_4k5B"
      },
      "outputs": [],
      "source": [
        "t4_corrs = (\n",
        "    tuning_corrs.custom.where(cell_type=[\"T4a\", \"T4b\", \"T4c\", \"T4d\"], intensity=1)\n",
        "    .median(\"neuron\")\n",
        "    .squeeze()\n",
        ")\n",
        "t5_corrs = (\n",
        "    tuning_corrs.custom.where(cell_type=[\"T5a\", \"T5b\", \"T5c\", \"T5d\"], intensity=0)\n",
        "    .median(\"neuron\")\n",
        "    .squeeze()\n",
        ")"
      ]
    },
    {
      "cell_type": "code",
      "execution_count": null,
      "metadata": {
        "execution": {
          "iopub.execute_input": "2024-12-08T18:36:43.213234Z",
          "iopub.status.busy": "2024-12-08T18:36:43.213004Z",
          "iopub.status.idle": "2024-12-08T18:36:43.219230Z",
          "shell.execute_reply": "2024-12-08T18:36:43.218152Z"
        },
        "id": "tWN2eGub4k5C"
      },
      "outputs": [],
      "source": [
        "dsi_corr.shape, t4_corrs.shape, t5_corrs.shape"
      ]
    },
    {
      "cell_type": "code",
      "execution_count": null,
      "metadata": {
        "execution": {
          "iopub.execute_input": "2024-12-08T18:36:43.222951Z",
          "iopub.status.busy": "2024-12-08T18:36:43.222572Z",
          "iopub.status.idle": "2024-12-08T18:36:43.414044Z",
          "shell.execute_reply": "2024-12-08T18:36:43.413171Z"
        },
        "id": "Y8yyYrc7PgG0"
      },
      "outputs": [],
      "source": [
        "from flyvis.analysis.visualization.plots import violin_groups\n",
        "\n",
        "fig, ax, *_ = violin_groups(\n",
        "    np.stack([dsi_corr.values, t4_corrs.values, t5_corrs.values], axis=0)[:, None, :],\n",
        "    [\"DSI\", \"T4 tuning\", \"T5 tuning\"],\n",
        "    ylabel=\"correlation\",\n",
        "    figsize=(1.8, 1.5),\n",
        "    ylim=(-1, 1),\n",
        "    colors=[\n",
        "        plt.get_cmap(\"Dark2\")(0.125),\n",
        "        plt.get_cmap(\"Dark2\")(0),\n",
        "        plt.get_cmap(\"Dark2\")(0.25),\n",
        "    ],\n",
        "    color_by=\"experiments\",\n",
        "    scatter_edge_color=\"gray\",\n",
        "    scatter_radius=5,\n",
        "    violin_alpha=0.8,\n",
        ")"
      ]
    },
    {
      "cell_type": "markdown",
      "metadata": {
        "id": "jorqXMxCZ4B4"
      },
      "source": [
        "<!-- ... Models in general have very good match to known single-neuron tuning properties, with median correlation around $0.8$. -->"
      ]
    }
  ],
  "metadata": {
    "colab": {
      "provenance": [],
      "gpuType": "T4"
    },
    "kernelspec": {
      "display_name": "Python 3",
      "name": "python3"
    },
    "language_info": {
      "codemirror_mode": {
        "name": "ipython",
        "version": 3
      },
      "file_extension": ".py",
      "mimetype": "text/x-python",
      "name": "python",
      "nbconvert_exporter": "python",
      "pygments_lexer": "ipython3",
      "version": "3.9.16"
    },
    "toc": {
      "base_numbering": 1,
      "nav_menu": {},
      "number_sections": true,
      "sideBar": true,
      "skip_h1_title": false,
      "title_cell": "Table of Contents",
      "title_sidebar": "Contents",
      "toc_cell": false,
      "toc_position": {},
      "toc_section_display": true,
      "toc_window_display": false
    },
    "widgets": {
      "application/vnd.jupyter.widget-state+json": {
        "2073e43e7d034412910f41bec3ba79c0": {
          "model_module": "@jupyter-widgets/controls",
          "model_name": "HBoxModel",
          "model_module_version": "1.5.0",
          "state": {
            "_dom_classes": [],
            "_model_module": "@jupyter-widgets/controls",
            "_model_module_version": "1.5.0",
            "_model_name": "HBoxModel",
            "_view_count": null,
            "_view_module": "@jupyter-widgets/controls",
            "_view_module_version": "1.5.0",
            "_view_name": "HBoxView",
            "box_style": "",
            "children": [
              "IPY_MODEL_b4ef1876271947df82a6058c3dcfd404",
              "IPY_MODEL_e854e362945c4d4db3af78a7aa0729d8",
              "IPY_MODEL_8cbc8e2fde6940b3b00e9a03884fd635"
            ],
            "layout": "IPY_MODEL_90f8c30ef3a8435ba64a4ac3edd3cb3e"
          }
        },
        "b4ef1876271947df82a6058c3dcfd404": {
          "model_module": "@jupyter-widgets/controls",
          "model_name": "HTMLModel",
          "model_module_version": "1.5.0",
          "state": {
            "_dom_classes": [],
            "_model_module": "@jupyter-widgets/controls",
            "_model_module_version": "1.5.0",
            "_model_name": "HTMLModel",
            "_view_count": null,
            "_view_module": "@jupyter-widgets/controls",
            "_view_module_version": "1.5.0",
            "_view_name": "HTMLView",
            "description": "",
            "description_tooltip": null,
            "layout": "IPY_MODEL_d52a4964770a45a7a352e5a243d5b331",
            "placeholder": "​",
            "style": "IPY_MODEL_8cdabb045eb94bb2ad3dd5cad01440ef",
            "value": "building stimuli: 100%"
          }
        },
        "e854e362945c4d4db3af78a7aa0729d8": {
          "model_module": "@jupyter-widgets/controls",
          "model_name": "FloatProgressModel",
          "model_module_version": "1.5.0",
          "state": {
            "_dom_classes": [],
            "_model_module": "@jupyter-widgets/controls",
            "_model_module_version": "1.5.0",
            "_model_name": "FloatProgressModel",
            "_view_count": null,
            "_view_module": "@jupyter-widgets/controls",
            "_view_module_version": "1.5.0",
            "_view_name": "ProgressView",
            "bar_style": "success",
            "description": "",
            "description_tooltip": null,
            "layout": "IPY_MODEL_2b379c2e66cd4e958be39f3fa224d0c2",
            "max": 24,
            "min": 0,
            "orientation": "horizontal",
            "style": "IPY_MODEL_793556d2b5c9497e9c6dc6cdd7c89714",
            "value": 24
          }
        },
        "8cbc8e2fde6940b3b00e9a03884fd635": {
          "model_module": "@jupyter-widgets/controls",
          "model_name": "HTMLModel",
          "model_module_version": "1.5.0",
          "state": {
            "_dom_classes": [],
            "_model_module": "@jupyter-widgets/controls",
            "_model_module_version": "1.5.0",
            "_model_name": "HTMLModel",
            "_view_count": null,
            "_view_module": "@jupyter-widgets/controls",
            "_view_module_version": "1.5.0",
            "_view_name": "HTMLView",
            "description": "",
            "description_tooltip": null,
            "layout": "IPY_MODEL_224bddfbefb34591b3e58c37c65aa555",
            "placeholder": "​",
            "style": "IPY_MODEL_87889bf009a94fbea30c0d25e6d028cc",
            "value": " 24/24 [00:19&lt;00:00,  1.29it/s]"
          }
        },
        "90f8c30ef3a8435ba64a4ac3edd3cb3e": {
          "model_module": "@jupyter-widgets/base",
          "model_name": "LayoutModel",
          "model_module_version": "1.2.0",
          "state": {
            "_model_module": "@jupyter-widgets/base",
            "_model_module_version": "1.2.0",
            "_model_name": "LayoutModel",
            "_view_count": null,
            "_view_module": "@jupyter-widgets/base",
            "_view_module_version": "1.2.0",
            "_view_name": "LayoutView",
            "align_content": null,
            "align_items": null,
            "align_self": null,
            "border": null,
            "bottom": null,
            "display": null,
            "flex": null,
            "flex_flow": null,
            "grid_area": null,
            "grid_auto_columns": null,
            "grid_auto_flow": null,
            "grid_auto_rows": null,
            "grid_column": null,
            "grid_gap": null,
            "grid_row": null,
            "grid_template_areas": null,
            "grid_template_columns": null,
            "grid_template_rows": null,
            "height": null,
            "justify_content": null,
            "justify_items": null,
            "left": null,
            "margin": null,
            "max_height": null,
            "max_width": null,
            "min_height": null,
            "min_width": null,
            "object_fit": null,
            "object_position": null,
            "order": null,
            "overflow": null,
            "overflow_x": null,
            "overflow_y": null,
            "padding": null,
            "right": null,
            "top": null,
            "visibility": null,
            "width": null
          }
        },
        "d52a4964770a45a7a352e5a243d5b331": {
          "model_module": "@jupyter-widgets/base",
          "model_name": "LayoutModel",
          "model_module_version": "1.2.0",
          "state": {
            "_model_module": "@jupyter-widgets/base",
            "_model_module_version": "1.2.0",
            "_model_name": "LayoutModel",
            "_view_count": null,
            "_view_module": "@jupyter-widgets/base",
            "_view_module_version": "1.2.0",
            "_view_name": "LayoutView",
            "align_content": null,
            "align_items": null,
            "align_self": null,
            "border": null,
            "bottom": null,
            "display": null,
            "flex": null,
            "flex_flow": null,
            "grid_area": null,
            "grid_auto_columns": null,
            "grid_auto_flow": null,
            "grid_auto_rows": null,
            "grid_column": null,
            "grid_gap": null,
            "grid_row": null,
            "grid_template_areas": null,
            "grid_template_columns": null,
            "grid_template_rows": null,
            "height": null,
            "justify_content": null,
            "justify_items": null,
            "left": null,
            "margin": null,
            "max_height": null,
            "max_width": null,
            "min_height": null,
            "min_width": null,
            "object_fit": null,
            "object_position": null,
            "order": null,
            "overflow": null,
            "overflow_x": null,
            "overflow_y": null,
            "padding": null,
            "right": null,
            "top": null,
            "visibility": null,
            "width": null
          }
        },
        "8cdabb045eb94bb2ad3dd5cad01440ef": {
          "model_module": "@jupyter-widgets/controls",
          "model_name": "DescriptionStyleModel",
          "model_module_version": "1.5.0",
          "state": {
            "_model_module": "@jupyter-widgets/controls",
            "_model_module_version": "1.5.0",
            "_model_name": "DescriptionStyleModel",
            "_view_count": null,
            "_view_module": "@jupyter-widgets/base",
            "_view_module_version": "1.2.0",
            "_view_name": "StyleView",
            "description_width": ""
          }
        },
        "2b379c2e66cd4e958be39f3fa224d0c2": {
          "model_module": "@jupyter-widgets/base",
          "model_name": "LayoutModel",
          "model_module_version": "1.2.0",
          "state": {
            "_model_module": "@jupyter-widgets/base",
            "_model_module_version": "1.2.0",
            "_model_name": "LayoutModel",
            "_view_count": null,
            "_view_module": "@jupyter-widgets/base",
            "_view_module_version": "1.2.0",
            "_view_name": "LayoutView",
            "align_content": null,
            "align_items": null,
            "align_self": null,
            "border": null,
            "bottom": null,
            "display": null,
            "flex": null,
            "flex_flow": null,
            "grid_area": null,
            "grid_auto_columns": null,
            "grid_auto_flow": null,
            "grid_auto_rows": null,
            "grid_column": null,
            "grid_gap": null,
            "grid_row": null,
            "grid_template_areas": null,
            "grid_template_columns": null,
            "grid_template_rows": null,
            "height": null,
            "justify_content": null,
            "justify_items": null,
            "left": null,
            "margin": null,
            "max_height": null,
            "max_width": null,
            "min_height": null,
            "min_width": null,
            "object_fit": null,
            "object_position": null,
            "order": null,
            "overflow": null,
            "overflow_x": null,
            "overflow_y": null,
            "padding": null,
            "right": null,
            "top": null,
            "visibility": null,
            "width": null
          }
        },
        "793556d2b5c9497e9c6dc6cdd7c89714": {
          "model_module": "@jupyter-widgets/controls",
          "model_name": "ProgressStyleModel",
          "model_module_version": "1.5.0",
          "state": {
            "_model_module": "@jupyter-widgets/controls",
            "_model_module_version": "1.5.0",
            "_model_name": "ProgressStyleModel",
            "_view_count": null,
            "_view_module": "@jupyter-widgets/base",
            "_view_module_version": "1.2.0",
            "_view_name": "StyleView",
            "bar_color": null,
            "description_width": ""
          }
        },
        "224bddfbefb34591b3e58c37c65aa555": {
          "model_module": "@jupyter-widgets/base",
          "model_name": "LayoutModel",
          "model_module_version": "1.2.0",
          "state": {
            "_model_module": "@jupyter-widgets/base",
            "_model_module_version": "1.2.0",
            "_model_name": "LayoutModel",
            "_view_count": null,
            "_view_module": "@jupyter-widgets/base",
            "_view_module_version": "1.2.0",
            "_view_name": "LayoutView",
            "align_content": null,
            "align_items": null,
            "align_self": null,
            "border": null,
            "bottom": null,
            "display": null,
            "flex": null,
            "flex_flow": null,
            "grid_area": null,
            "grid_auto_columns": null,
            "grid_auto_flow": null,
            "grid_auto_rows": null,
            "grid_column": null,
            "grid_gap": null,
            "grid_row": null,
            "grid_template_areas": null,
            "grid_template_columns": null,
            "grid_template_rows": null,
            "height": null,
            "justify_content": null,
            "justify_items": null,
            "left": null,
            "margin": null,
            "max_height": null,
            "max_width": null,
            "min_height": null,
            "min_width": null,
            "object_fit": null,
            "object_position": null,
            "order": null,
            "overflow": null,
            "overflow_x": null,
            "overflow_y": null,
            "padding": null,
            "right": null,
            "top": null,
            "visibility": null,
            "width": null
          }
        },
        "87889bf009a94fbea30c0d25e6d028cc": {
          "model_module": "@jupyter-widgets/controls",
          "model_name": "DescriptionStyleModel",
          "model_module_version": "1.5.0",
          "state": {
            "_model_module": "@jupyter-widgets/controls",
            "_model_module_version": "1.5.0",
            "_model_name": "DescriptionStyleModel",
            "_view_count": null,
            "_view_module": "@jupyter-widgets/base",
            "_view_module_version": "1.2.0",
            "_view_name": "StyleView",
            "description_width": ""
          }
        },
        "bee23fc1f3934b448da5406c82e9b047": {
          "model_module": "@jupyter-widgets/controls",
          "model_name": "HBoxModel",
          "model_module_version": "1.5.0",
          "state": {
            "_dom_classes": [],
            "_model_module": "@jupyter-widgets/controls",
            "_model_module_version": "1.5.0",
            "_model_name": "HBoxModel",
            "_view_count": null,
            "_view_module": "@jupyter-widgets/controls",
            "_view_module_version": "1.5.0",
            "_view_name": "HBoxView",
            "box_style": "",
            "children": [
              "IPY_MODEL_aac46d5dc22f4a2186176bf9b13bd8ce",
              "IPY_MODEL_2c42edc1fb9444c48784b739a220ae3c",
              "IPY_MODEL_ffc775dcbdec41ce8bdc26395defaab5"
            ],
            "layout": "IPY_MODEL_0fc78e2438e34605974d746409e960b6"
          }
        },
        "aac46d5dc22f4a2186176bf9b13bd8ce": {
          "model_module": "@jupyter-widgets/controls",
          "model_name": "HTMLModel",
          "model_module_version": "1.5.0",
          "state": {
            "_dom_classes": [],
            "_model_module": "@jupyter-widgets/controls",
            "_model_module_version": "1.5.0",
            "_model_name": "HTMLModel",
            "_view_count": null,
            "_view_module": "@jupyter-widgets/controls",
            "_view_module_version": "1.5.0",
            "_view_name": "HTMLView",
            "description": "",
            "description_tooltip": null,
            "layout": "IPY_MODEL_ec30c650c778443b99bf3bff7d2de07f",
            "placeholder": "​",
            "style": "IPY_MODEL_f4e1552ff6e04e84976f45d8e5da49e5",
            "value": "Batch: 100%"
          }
        },
        "2c42edc1fb9444c48784b739a220ae3c": {
          "model_module": "@jupyter-widgets/controls",
          "model_name": "FloatProgressModel",
          "model_module_version": "1.5.0",
          "state": {
            "_dom_classes": [],
            "_model_module": "@jupyter-widgets/controls",
            "_model_module_version": "1.5.0",
            "_model_name": "FloatProgressModel",
            "_view_count": null,
            "_view_module": "@jupyter-widgets/controls",
            "_view_module_version": "1.5.0",
            "_view_name": "ProgressView",
            "bar_style": "",
            "description": "",
            "description_tooltip": null,
            "layout": "IPY_MODEL_911e2a6eb2654f46a750e3f6f8a3f08f",
            "max": 6,
            "min": 0,
            "orientation": "horizontal",
            "style": "IPY_MODEL_47003c637ed647e6894324a2667fce69",
            "value": 6
          }
        },
        "ffc775dcbdec41ce8bdc26395defaab5": {
          "model_module": "@jupyter-widgets/controls",
          "model_name": "HTMLModel",
          "model_module_version": "1.5.0",
          "state": {
            "_dom_classes": [],
            "_model_module": "@jupyter-widgets/controls",
            "_model_module_version": "1.5.0",
            "_model_name": "HTMLModel",
            "_view_count": null,
            "_view_module": "@jupyter-widgets/controls",
            "_view_module_version": "1.5.0",
            "_view_name": "HTMLView",
            "description": "",
            "description_tooltip": null,
            "layout": "IPY_MODEL_4824d546a65542bdb7d1dbf7117b5330",
            "placeholder": "​",
            "style": "IPY_MODEL_277ab6196a3f48e5b9356df121f996ce",
            "value": " 6/6 [00:06&lt;00:00,  1.02s/it]"
          }
        },
        "0fc78e2438e34605974d746409e960b6": {
          "model_module": "@jupyter-widgets/base",
          "model_name": "LayoutModel",
          "model_module_version": "1.2.0",
          "state": {
            "_model_module": "@jupyter-widgets/base",
            "_model_module_version": "1.2.0",
            "_model_name": "LayoutModel",
            "_view_count": null,
            "_view_module": "@jupyter-widgets/base",
            "_view_module_version": "1.2.0",
            "_view_name": "LayoutView",
            "align_content": null,
            "align_items": null,
            "align_self": null,
            "border": null,
            "bottom": null,
            "display": null,
            "flex": null,
            "flex_flow": null,
            "grid_area": null,
            "grid_auto_columns": null,
            "grid_auto_flow": null,
            "grid_auto_rows": null,
            "grid_column": null,
            "grid_gap": null,
            "grid_row": null,
            "grid_template_areas": null,
            "grid_template_columns": null,
            "grid_template_rows": null,
            "height": null,
            "justify_content": null,
            "justify_items": null,
            "left": null,
            "margin": null,
            "max_height": null,
            "max_width": null,
            "min_height": null,
            "min_width": null,
            "object_fit": null,
            "object_position": null,
            "order": null,
            "overflow": null,
            "overflow_x": null,
            "overflow_y": null,
            "padding": null,
            "right": null,
            "top": null,
            "visibility": "hidden",
            "width": null
          }
        },
        "ec30c650c778443b99bf3bff7d2de07f": {
          "model_module": "@jupyter-widgets/base",
          "model_name": "LayoutModel",
          "model_module_version": "1.2.0",
          "state": {
            "_model_module": "@jupyter-widgets/base",
            "_model_module_version": "1.2.0",
            "_model_name": "LayoutModel",
            "_view_count": null,
            "_view_module": "@jupyter-widgets/base",
            "_view_module_version": "1.2.0",
            "_view_name": "LayoutView",
            "align_content": null,
            "align_items": null,
            "align_self": null,
            "border": null,
            "bottom": null,
            "display": null,
            "flex": null,
            "flex_flow": null,
            "grid_area": null,
            "grid_auto_columns": null,
            "grid_auto_flow": null,
            "grid_auto_rows": null,
            "grid_column": null,
            "grid_gap": null,
            "grid_row": null,
            "grid_template_areas": null,
            "grid_template_columns": null,
            "grid_template_rows": null,
            "height": null,
            "justify_content": null,
            "justify_items": null,
            "left": null,
            "margin": null,
            "max_height": null,
            "max_width": null,
            "min_height": null,
            "min_width": null,
            "object_fit": null,
            "object_position": null,
            "order": null,
            "overflow": null,
            "overflow_x": null,
            "overflow_y": null,
            "padding": null,
            "right": null,
            "top": null,
            "visibility": null,
            "width": null
          }
        },
        "f4e1552ff6e04e84976f45d8e5da49e5": {
          "model_module": "@jupyter-widgets/controls",
          "model_name": "DescriptionStyleModel",
          "model_module_version": "1.5.0",
          "state": {
            "_model_module": "@jupyter-widgets/controls",
            "_model_module_version": "1.5.0",
            "_model_name": "DescriptionStyleModel",
            "_view_count": null,
            "_view_module": "@jupyter-widgets/base",
            "_view_module_version": "1.2.0",
            "_view_name": "StyleView",
            "description_width": ""
          }
        },
        "911e2a6eb2654f46a750e3f6f8a3f08f": {
          "model_module": "@jupyter-widgets/base",
          "model_name": "LayoutModel",
          "model_module_version": "1.2.0",
          "state": {
            "_model_module": "@jupyter-widgets/base",
            "_model_module_version": "1.2.0",
            "_model_name": "LayoutModel",
            "_view_count": null,
            "_view_module": "@jupyter-widgets/base",
            "_view_module_version": "1.2.0",
            "_view_name": "LayoutView",
            "align_content": null,
            "align_items": null,
            "align_self": null,
            "border": null,
            "bottom": null,
            "display": null,
            "flex": null,
            "flex_flow": null,
            "grid_area": null,
            "grid_auto_columns": null,
            "grid_auto_flow": null,
            "grid_auto_rows": null,
            "grid_column": null,
            "grid_gap": null,
            "grid_row": null,
            "grid_template_areas": null,
            "grid_template_columns": null,
            "grid_template_rows": null,
            "height": null,
            "justify_content": null,
            "justify_items": null,
            "left": null,
            "margin": null,
            "max_height": null,
            "max_width": null,
            "min_height": null,
            "min_width": null,
            "object_fit": null,
            "object_position": null,
            "order": null,
            "overflow": null,
            "overflow_x": null,
            "overflow_y": null,
            "padding": null,
            "right": null,
            "top": null,
            "visibility": null,
            "width": null
          }
        },
        "47003c637ed647e6894324a2667fce69": {
          "model_module": "@jupyter-widgets/controls",
          "model_name": "ProgressStyleModel",
          "model_module_version": "1.5.0",
          "state": {
            "_model_module": "@jupyter-widgets/controls",
            "_model_module_version": "1.5.0",
            "_model_name": "ProgressStyleModel",
            "_view_count": null,
            "_view_module": "@jupyter-widgets/base",
            "_view_module_version": "1.2.0",
            "_view_name": "StyleView",
            "bar_color": null,
            "description_width": ""
          }
        },
        "4824d546a65542bdb7d1dbf7117b5330": {
          "model_module": "@jupyter-widgets/base",
          "model_name": "LayoutModel",
          "model_module_version": "1.2.0",
          "state": {
            "_model_module": "@jupyter-widgets/base",
            "_model_module_version": "1.2.0",
            "_model_name": "LayoutModel",
            "_view_count": null,
            "_view_module": "@jupyter-widgets/base",
            "_view_module_version": "1.2.0",
            "_view_name": "LayoutView",
            "align_content": null,
            "align_items": null,
            "align_self": null,
            "border": null,
            "bottom": null,
            "display": null,
            "flex": null,
            "flex_flow": null,
            "grid_area": null,
            "grid_auto_columns": null,
            "grid_auto_flow": null,
            "grid_auto_rows": null,
            "grid_column": null,
            "grid_gap": null,
            "grid_row": null,
            "grid_template_areas": null,
            "grid_template_columns": null,
            "grid_template_rows": null,
            "height": null,
            "justify_content": null,
            "justify_items": null,
            "left": null,
            "margin": null,
            "max_height": null,
            "max_width": null,
            "min_height": null,
            "min_width": null,
            "object_fit": null,
            "object_position": null,
            "order": null,
            "overflow": null,
            "overflow_x": null,
            "overflow_y": null,
            "padding": null,
            "right": null,
            "top": null,
            "visibility": null,
            "width": null
          }
        },
        "277ab6196a3f48e5b9356df121f996ce": {
          "model_module": "@jupyter-widgets/controls",
          "model_name": "DescriptionStyleModel",
          "model_module_version": "1.5.0",
          "state": {
            "_model_module": "@jupyter-widgets/controls",
            "_model_module_version": "1.5.0",
            "_model_name": "DescriptionStyleModel",
            "_view_count": null,
            "_view_module": "@jupyter-widgets/base",
            "_view_module_version": "1.2.0",
            "_view_name": "StyleView",
            "description_width": ""
          }
        }
      }
    },
    "accelerator": "GPU"
  },
  "nbformat": 4,
  "nbformat_minor": 0
}